{
  "nbformat": 4,
  "nbformat_minor": 0,
  "metadata": {
    "colab": {
      "name": "Single_Instrument_APPL.ipynb",
      "provenance": [],
      "collapsed_sections": [],
      "include_colab_link": true
    },
    "kernelspec": {
      "name": "python3",
      "display_name": "Python 3"
    }
  },
  "cells": [
    {
      "cell_type": "markdown",
      "metadata": {
        "id": "view-in-github",
        "colab_type": "text"
      },
      "source": [
        "<a href=\"https://colab.research.google.com/github/amrmoohamed/RLinTrading/blob/main/Single_Instrument_APPL.ipynb\" target=\"_parent\"><img src=\"https://colab.research.google.com/assets/colab-badge.svg\" alt=\"Open In Colab\"/></a>"
      ]
    },
    {
      "cell_type": "markdown",
      "metadata": {
        "id": "P7sW0zVhPrqg"
      },
      "source": [
        "#**Article**\n",
        "https://levelup.gitconnected.com/using-tensortrade-for-making-a-simple-trading-algorithm-6fad4d9bc79c\n",
        "\n"
      ]
    },
    {
      "cell_type": "markdown",
      "metadata": {
        "id": "HFHPjpT9jPoX"
      },
      "source": [
        "#**installation**"
      ]
    },
    {
      "cell_type": "code",
      "metadata": {
        "id": "QIII1V_cqD3P"
      },
      "source": [
        "!#!cp -r /content/tensortrade /usr/local/lib/python3.7/dist-packages\n",
        "\n",
        "#insatalling Tensortrade module\n",
        "!pip install git+https://github.com/tensortrade-org/tensortrade.git\n",
        "!pip install -r /content/tensortrade/requirements.txt\n",
        "#installing some modules\n",
        "!pip install ccxt\n",
        "!pip install ray\n",
        "!pip install symfit\n",
        "!pip install tensorboardX"
      ],
      "execution_count": null,
      "outputs": []
    },
    {
      "cell_type": "code",
      "metadata": {
        "id": "VzDRrehz8XII"
      },
      "source": [
        "!pip install yahoo_fin\n",
        "!pip install yfinance"
      ],
      "execution_count": null,
      "outputs": []
    },
    {
      "cell_type": "markdown",
      "metadata": {
        "id": "WIXuStDUHoga"
      },
      "source": [
        "**Remember to restart runtime after installing!!**"
      ]
    },
    {
      "cell_type": "markdown",
      "metadata": {
        "id": "b3_NWaRsLx7T"
      },
      "source": [
        "#**Importing**"
      ]
    },
    {
      "cell_type": "code",
      "metadata": {
        "id": "bilXEqVFqJ1k"
      },
      "source": [
        "import os\n",
        "from datetime import datetime\n",
        "\n",
        "import matplotlib.pyplot as plt\n",
        "import numpy as np\n",
        "import pandas as pd\n",
        "import ray\n",
        "import ray.rllib.agents.ppo as ppo\n",
        "import tensortrade.env.default as default\n",
        "from gym.spaces import Discrete\n",
        "from ray import tune\n",
        "from ray.tune.registry import register_env\n",
        "from symfit import parameters, variables, sin, cos, Fit\n",
        "from tensortrade.env.default.actions import TensorTradeActionScheme\n",
        "from tensortrade.env.default.rewards import TensorTradeRewardScheme\n",
        "from tensortrade.env.generic import Renderer\n",
        "from tensortrade.feed.core import DataFeed, Stream\n",
        "from tensortrade.oms.exchanges import Exchange\n",
        "from tensortrade.oms.instruments import Instrument\n",
        "from tensortrade.oms.orders import proportion_order\n",
        "from tensortrade.oms.services.execution.simulated import execute_order\n",
        "from tensortrade.oms.wallets import Wallet, Portfolio"
      ],
      "execution_count": null,
      "outputs": []
    },
    {
      "cell_type": "code",
      "metadata": {
        "id": "1xAwJxUc6iEn"
      },
      "source": [
        "from pandas_datareader import data as pdr\n",
        "from yahoo_fin import stock_info as si\n",
        "from yahoo_fin.stock_info import get_data\n",
        "from pandas import ExcelWriter\n",
        "import yfinance as yf\n",
        "import pandas as pd\n",
        "import datetime\n",
        "import time\n",
        "yf.pdr_override()"
      ],
      "execution_count": null,
      "outputs": []
    },
    {
      "cell_type": "markdown",
      "metadata": {
        "id": "C0C9Bu5l27fq"
      },
      "source": [
        "#**Retreive Data**"
      ]
    },
    {
      "cell_type": "code",
      "metadata": {
        "id": "RXBaywSqmlyi"
      },
      "source": [
        "yeartoday = 365\n",
        "years = 7\n",
        "start_date = datetime.datetime.now() - datetime.timedelta(days= years*yeartoday)\n",
        "\n",
        "end_date = datetime.date.today()"
      ],
      "execution_count": null,
      "outputs": []
    },
    {
      "cell_type": "code",
      "metadata": {
        "id": "qWFijbBMmmX8"
      },
      "source": [
        "df = get_data('AAPL',start_date,end_date,index_as_date = True, interval=\"1d\")\n",
        "df.to_csv('AAPL.csv')"
      ],
      "execution_count": null,
      "outputs": []
    },
    {
      "cell_type": "code",
      "metadata": {
        "colab": {
          "base_uri": "https://localhost:8080/",
          "height": 107
        },
        "id": "BtDexRd9jwrs",
        "outputId": "a8048ada-befa-44a9-cb55-f63f891ba13e"
      },
      "source": [
        "data = pd.read_csv('/content/AAPL.csv', index_col=0)\n",
        "data.head(2)"
      ],
      "execution_count": null,
      "outputs": [
        {
          "output_type": "execute_result",
          "data": {
            "text/html": [
              "<div>\n",
              "<style scoped>\n",
              "    .dataframe tbody tr th:only-of-type {\n",
              "        vertical-align: middle;\n",
              "    }\n",
              "\n",
              "    .dataframe tbody tr th {\n",
              "        vertical-align: top;\n",
              "    }\n",
              "\n",
              "    .dataframe thead th {\n",
              "        text-align: right;\n",
              "    }\n",
              "</style>\n",
              "<table border=\"1\" class=\"dataframe\">\n",
              "  <thead>\n",
              "    <tr style=\"text-align: right;\">\n",
              "      <th></th>\n",
              "      <th>open</th>\n",
              "      <th>high</th>\n",
              "      <th>low</th>\n",
              "      <th>close</th>\n",
              "      <th>adjclose</th>\n",
              "      <th>volume</th>\n",
              "      <th>ticker</th>\n",
              "    </tr>\n",
              "  </thead>\n",
              "  <tbody>\n",
              "    <tr>\n",
              "      <th>2014-06-05</th>\n",
              "      <td>23.078571</td>\n",
              "      <td>23.191786</td>\n",
              "      <td>22.950357</td>\n",
              "      <td>23.119642</td>\n",
              "      <td>20.799664</td>\n",
              "      <td>303805600</td>\n",
              "      <td>AAPL</td>\n",
              "    </tr>\n",
              "    <tr>\n",
              "      <th>2014-06-06</th>\n",
              "      <td>23.210714</td>\n",
              "      <td>23.259287</td>\n",
              "      <td>23.016787</td>\n",
              "      <td>23.056070</td>\n",
              "      <td>20.742474</td>\n",
              "      <td>349938400</td>\n",
              "      <td>AAPL</td>\n",
              "    </tr>\n",
              "  </tbody>\n",
              "</table>\n",
              "</div>"
            ],
            "text/plain": [
              "                 open       high        low  ...   adjclose     volume  ticker\n",
              "2014-06-05  23.078571  23.191786  22.950357  ...  20.799664  303805600    AAPL\n",
              "2014-06-06  23.210714  23.259287  23.016787  ...  20.742474  349938400    AAPL\n",
              "\n",
              "[2 rows x 7 columns]"
            ]
          },
          "metadata": {
            "tags": []
          },
          "execution_count": 5
        }
      ]
    },
    {
      "cell_type": "markdown",
      "metadata": {
        "id": "pfTEUBmDL-cX"
      },
      "source": [
        "#**data preprocessing**"
      ]
    },
    {
      "cell_type": "code",
      "metadata": {
        "id": "X39tAT7ipeN2"
      },
      "source": [
        "datasize = data.shape[0]\n",
        "trainsize = 0.9\n",
        "split = round(trainsize*datasize)\n",
        "traindata = data.iloc[:split,:]\n",
        "testdata = data.iloc[split:,:]"
      ],
      "execution_count": null,
      "outputs": []
    },
    {
      "cell_type": "code",
      "metadata": {
        "colab": {
          "base_uri": "https://localhost:8080/"
        },
        "id": "AL3o1HItpaTU",
        "outputId": "9a1d41ea-d255-4a05-c89e-e6e208244f70"
      },
      "source": [
        "print(data.shape,traindata.shape,testdata.shape)"
      ],
      "execution_count": null,
      "outputs": [
        {
          "output_type": "stream",
          "text": [
            "(1761, 7) (1585, 7) (176, 7)\n"
          ],
          "name": "stdout"
        }
      ]
    },
    {
      "cell_type": "code",
      "metadata": {
        "id": "hmCmJJit-iSB"
      },
      "source": [
        "Ctrainfeed = traindata['close'].to_numpy()\n",
        "Ctestfeed = testdata['close'].to_numpy()\n",
        "\n",
        "Otrainfeed = traindata['open'].to_numpy()\n",
        "Otestfeed = testdata['open'].to_numpy()\n",
        "\n",
        "Htrainfeed = traindata['high'].to_numpy()\n",
        "Htestfeed = testdata['high'].to_numpy()\n",
        "\n",
        "Ltrainfeed = traindata['low'].to_numpy()\n",
        "Ltestfeed = testdata['low'].to_numpy()\n",
        "\n",
        "Vtrainfeed = traindata['volume'].to_numpy()\n",
        "Vtestfeed = testdata['volume'].to_numpy()"
      ],
      "execution_count": null,
      "outputs": []
    },
    {
      "cell_type": "markdown",
      "metadata": {
        "id": "nq5lXQF0MmPS"
      },
      "source": [
        "#**Instruments**"
      ]
    },
    {
      "cell_type": "code",
      "metadata": {
        "id": "my0NDagXgs-k"
      },
      "source": [
        "USD = Instrument(\"USD\", 2, \"U.S. Dollar\")\n",
        "AAPL = Instrument(\"AAPL\", 2, \"APPLE\")"
      ],
      "execution_count": null,
      "outputs": []
    },
    {
      "cell_type": "markdown",
      "metadata": {
        "id": "3u2NPiwYM08d"
      },
      "source": [
        "#**Features functions**"
      ]
    },
    {
      "cell_type": "code",
      "metadata": {
        "id": "e_Wmb1T6M3wY"
      },
      "source": [
        "def rsi(price: Stream[float], period: float) -> Stream[float]:\n",
        "  r = price.diff()\n",
        "  upside = r.clamp_min(0).abs()\n",
        "  downside = r.clamp_max(0).abs()\n",
        "  rs = upside.ewm(alpha=1 / period).mean() / downside.ewm(alpha=1 / period).mean()\n",
        "  return 100*(1 - (1 + rs) ** -1)\n",
        "\n",
        "def macd(price: Stream[float], fast: float, slow: float, signal: float) -> Stream[float]:\n",
        "  fm = price.ewm(span=fast, adjust=False).mean()\n",
        "  sm = price.ewm(span=slow, adjust=False).mean()\n",
        "  md = fm - sm\n",
        "  signal = md - md.ewm(span=signal, adjust=False).mean()\n",
        "  return signal"
      ],
      "execution_count": null,
      "outputs": []
    },
    {
      "cell_type": "markdown",
      "metadata": {
        "id": "9O5WhGUukVyN"
      },
      "source": [
        "#**TensorTrade Classes**"
      ]
    },
    {
      "cell_type": "code",
      "metadata": {
        "id": "n5fn3EOYkhqg"
      },
      "source": [
        "class BSH(TensorTradeActionScheme):\n",
        "\n",
        "    registered_name = \"bsh\"\n",
        "\n",
        "    def __init__(self, cash: 'Wallet', asset: 'Wallet'):\n",
        "        super().__init__()\n",
        "        self.cash = cash\n",
        "        self.asset = asset\n",
        "\n",
        "        self.listeners = []\n",
        "        self.action = 0\n",
        "\n",
        "    @property\n",
        "    def action_space(self):\n",
        "        return Discrete(2)\n",
        "\n",
        "    def attach(self, listener):\n",
        "        self.listeners += [listener]\n",
        "        return self\n",
        "\n",
        "    def get_orders(self, action: int, portfolio: 'Portfolio'):\n",
        "        order = None\n",
        "\n",
        "        if abs(action - self.action) > 0:\n",
        "            src = self.cash if self.action == 0 else self.asset\n",
        "            tgt = self.asset if self.action == 0 else self.cash\n",
        "            order = proportion_order(portfolio, src, tgt, 1.0)\n",
        "            self.action = action\n",
        "\n",
        "        for listener in self.listeners:\n",
        "            listener.on_action(action)\n",
        "\n",
        "        return [order]\n",
        "\n",
        "    def reset(self):\n",
        "        super().reset()\n",
        "        self.action = 0"
      ],
      "execution_count": null,
      "outputs": []
    },
    {
      "cell_type": "code",
      "metadata": {
        "id": "rZSQpX-1kn6e"
      },
      "source": [
        "class PBR(TensorTradeRewardScheme):\n",
        "\n",
        "    registered_name = \"pbr\"\n",
        "\n",
        "    def __init__(self, price: 'Stream'):\n",
        "        super().__init__()\n",
        "        self.position = -1\n",
        "\n",
        "        r = Stream.sensor(price, lambda p: p.value, dtype=\"float\").diff()\n",
        "        position = Stream.sensor(self, lambda rs: rs.position, dtype=\"float\")\n",
        "\n",
        "        reward = (r * position).fillna(0).rename(\"reward\")\n",
        "\n",
        "        self.feed = DataFeed([reward])\n",
        "        self.feed.compile()\n",
        "\n",
        "    def on_action(self, action: int):\n",
        "        self.position = -1 if action == 0 else 1\n",
        "\n",
        "    def get_reward(self, portfolio: 'Portfolio'):\n",
        "        return self.feed.next()[\"reward\"]\n",
        "\n",
        "    def reset(self):\n",
        "        self.position = -1\n",
        "        self.feed.reset()"
      ],
      "execution_count": null,
      "outputs": []
    },
    {
      "cell_type": "code",
      "metadata": {
        "id": "PSOKIqCaku4S"
      },
      "source": [
        "class PositionChangeChart(Renderer):\n",
        "\n",
        "    def __init__(self, color: str = \"orange\"):\n",
        "        self.color = \"orange\"\n",
        "\n",
        "    def render(self, env, **kwargs):\n",
        "        history = pd.DataFrame(env.observer.renderer_history)\n",
        "\n",
        "        actions = list(history.action)\n",
        "        p = list(history.price)\n",
        "\n",
        "        buy = {}\n",
        "        sell = {}\n",
        "\n",
        "        for i in range(len(actions) - 1):\n",
        "            a1 = actions[i]\n",
        "            a2 = actions[i + 1]\n",
        "\n",
        "            if a1 != a2:\n",
        "                if a1 == 0 and a2 == 1:\n",
        "                    buy[i] = p[i]\n",
        "                else:\n",
        "                    sell[i] = p[i]\n",
        "\n",
        "        buy = pd.Series(buy)\n",
        "        sell = pd.Series(sell)\n",
        "\n",
        "        fig, axs = plt.subplots(1, 2, figsize=(15, 5))\n",
        "\n",
        "        fig.suptitle(\"Performance\")\n",
        "\n",
        "        axs[0].plot(np.arange(len(p)), p, label=\"price\", color=self.color)\n",
        "        axs[0].scatter(buy.index, buy.values, marker=\"^\", color=\"green\")\n",
        "        axs[0].scatter(sell.index, sell.values, marker=\"^\", color=\"red\")\n",
        "        axs[0].set_title(\"Trading Chart\")\n",
        "        axs[0].set_xlabel(\"Step\")\n",
        "        axs[0].set_ylabel(\"Price (USD/AAPL)\")\n",
        "\n",
        "        performance = env.action_scheme.portfolio.performance\n",
        "        performance = pd.DataFrame(performance).transpose()\n",
        "\n",
        "        performance.net_worth.plot(ax=axs[1])\n",
        "        axs[1].set_title(\"Net Worth\")\n",
        "        axs[1].set_xlabel(\"Step\")\n",
        "        axs[1].set_ylabel(\"Amount (USD)\")\n",
        "\n",
        "        plt.show()"
      ],
      "execution_count": null,
      "outputs": []
    },
    {
      "cell_type": "code",
      "metadata": {
        "id": "jw560Jf92b41"
      },
      "source": [
        "def create_env(config):\n",
        "\n",
        "    #closeprice\n",
        "    p = Stream.source(Ctrainfeed, dtype=\"float\").rename(\"USD-AAPL\")\n",
        "    #open price\n",
        "    O = Stream.source(Otrainfeed, dtype=\"float\").rename(\"open\")\n",
        "    #volume\n",
        "    V = Stream.source(Vtrainfeed, dtype=\"float\").rename(\"volume\")\n",
        "    #high\n",
        "    H = Stream.source(Htrainfeed, dtype=\"float\").rename(\"high\")\n",
        "    #low\n",
        "    L = Stream.source(Ltrainfeed, dtype=\"float\").rename(\"low\")\n",
        "    \n",
        "    stockexchange = Exchange('Nasdaq', service=execute_order)(\n",
        "        p\n",
        "    )\n",
        "\n",
        "    cash = Wallet(stockexchange, 10000 * USD)\n",
        "    asset = Wallet(stockexchange, 0 * AAPL)\n",
        "\n",
        "    portfolio = Portfolio(USD, [\n",
        "        cash,\n",
        "        asset\n",
        "    ])\n",
        "\n",
        "\n",
        "    feed = DataFeed([\n",
        "        p,\n",
        "        p.ewm(span=10).mean().rename(\"fast\"),\n",
        "        p.ewm(span=50).mean().rename(\"medium\"),\n",
        "        p.ewm(span=100).mean().rename(\"slow\"),\n",
        "        p.log().diff().fillna(0).rename(\"lr\"),\n",
        "        rsi(p, period=20).rename(\"rsi\"),\n",
        "        macd(p, fast=10, slow=50, signal=5).rename(\"macd\"),\n",
        "        O,\n",
        "        H,\n",
        "        L,\n",
        "        V\n",
        "    ])\n",
        "\n",
        "    reward_scheme = PBR(price=p)\n",
        "\n",
        "    action_scheme = BSH(\n",
        "        cash=cash,\n",
        "        asset=asset\n",
        "    ).attach(reward_scheme)\n",
        "\n",
        "    renderer_feed = DataFeed([\n",
        "        Stream.source(Ctrainfeed, dtype=\"float\").rename(\"price\"),\n",
        "        Stream.sensor(action_scheme, lambda s: s.action, dtype=\"float\").rename(\"action\")\n",
        "    ])\n",
        "\n",
        "    environment = default.create(\n",
        "        feed=feed,\n",
        "        portfolio=portfolio,\n",
        "        action_scheme=action_scheme,\n",
        "        reward_scheme=reward_scheme,\n",
        "        renderer_feed=renderer_feed,\n",
        "        renderer=PositionChangeChart(),\n",
        "        window_size=config[\"window_size\"],\n",
        "        max_allowed_loss=0.6\n",
        "    )\n",
        "    return environment\n",
        "\n",
        "\n",
        "register_env(\"TradingEnv\", create_env)"
      ],
      "execution_count": null,
      "outputs": []
    },
    {
      "cell_type": "markdown",
      "metadata": {
        "id": "Gc-wfM_y2-SG"
      },
      "source": [
        "#**Train-Model**"
      ]
    },
    {
      "cell_type": "code",
      "metadata": {
        "id": "bGrPTjEP3I9S",
        "colab": {
          "base_uri": "https://localhost:8080/",
          "height": 1000
        },
        "outputId": "7fd75bdf-1281-4a23-a818-59e04d12fbc3"
      },
      "source": [
        "analysis = tune.run(\n",
        "    \"PPO\",\n",
        "    stop={\n",
        "      \"episode_reward_mean\": 10\n",
        "    },\n",
        "    config={\n",
        "        \"env\": \"TradingEnv\",\n",
        "        \"env_config\": {\n",
        "            \"window_size\": 25\n",
        "        },\n",
        "        \"framework\": \"torch\",\n",
        "        \"ignore_worker_failures\": True,\n",
        "        \"num_workers\": os.cpu_count() - 1,\n",
        "        \"num_gpus\": 0,\n",
        "        \"clip_rewards\": True,\n",
        "        \"lr\": 8e-6,\n",
        "        \"gamma\": 0,\n",
        "        \"observation_filter\": \"MeanStdFilter\",\n",
        "        \"lambda\": 0.72,\n",
        "        \"vf_loss_coeff\": 0.5,\n",
        "        \"entropy_coeff\": 0.01\n",
        "    },\n",
        "    checkpoint_at_end=True\n",
        ")"
      ],
      "execution_count": null,
      "outputs": [
        {
          "output_type": "stream",
          "text": [
            "2021-06-03 04:49:50,062\tINFO services.py:1269 -- View the Ray dashboard at \u001b[1m\u001b[32mhttp://127.0.0.1:8265\u001b[39m\u001b[22m\n"
          ],
          "name": "stderr"
        },
        {
          "output_type": "display_data",
          "data": {
            "text/html": [
              "== Status ==<br>Memory usage on this node: 1.4/12.7 GiB<br>Using FIFO scheduling algorithm.<br>Resources requested: 0/2 CPUs, 0/0 GPUs, 0.0/7.33 GiB heap, 0.0/3.66 GiB objects<br>Result logdir: /root/ray_results/PPO<br>Number of trials: 1/1 (1 PENDING)<br><table>\n",
              "<thead>\n",
              "<tr><th>Trial name                </th><th>status  </th><th>loc  </th></tr>\n",
              "</thead>\n",
              "<tbody>\n",
              "<tr><td>PPO_TradingEnv_2241b_00000</td><td>PENDING </td><td>     </td></tr>\n",
              "</tbody>\n",
              "</table><br><br>"
            ],
            "text/plain": [
              "<IPython.core.display.HTML object>"
            ]
          },
          "metadata": {
            "tags": []
          }
        },
        {
          "output_type": "stream",
          "text": [
            "\u001b[2m\u001b[36m(pid=2173)\u001b[0m WARNING:tensorflow:From /usr/local/lib/python3.7/dist-packages/tensorflow/python/compat/v2_compat.py:96: disable_resource_variables (from tensorflow.python.ops.variable_scope) is deprecated and will be removed in a future version.\n",
            "\u001b[2m\u001b[36m(pid=2173)\u001b[0m Instructions for updating:\n",
            "\u001b[2m\u001b[36m(pid=2173)\u001b[0m non-resource variables are not supported in the long term\n",
            "\u001b[2m\u001b[36m(pid=2173)\u001b[0m 2021-06-03 04:49:55,540\tWARNING compression.py:16 -- lz4 not available, disabling sample compression. This will significantly impact RLlib performance. To install lz4, run `pip install lz4`.\n",
            "\u001b[2m\u001b[36m(pid=2173)\u001b[0m WARNING:tensorflow:From /usr/local/lib/python3.7/dist-packages/tensorflow_probability/python/internal/variadic_reduce.py:115: calling function (from tensorflow.python.eager.def_function) with experimental_compile is deprecated and will be removed in a future version.\n",
            "\u001b[2m\u001b[36m(pid=2173)\u001b[0m Instructions for updating:\n",
            "\u001b[2m\u001b[36m(pid=2173)\u001b[0m experimental_compile is deprecated, use jit_compile instead\n",
            "\u001b[2m\u001b[36m(pid=2173)\u001b[0m 2021-06-03 04:49:56,669\tINFO trainer.py:696 -- Current log_level is WARN. For more information, set 'log_level': 'INFO' / 'DEBUG' or use the -v and -vv flags.\n",
            "\u001b[2m\u001b[36m(pid=2172)\u001b[0m WARNING:tensorflow:From /usr/local/lib/python3.7/dist-packages/tensorflow/python/compat/v2_compat.py:96: disable_resource_variables (from tensorflow.python.ops.variable_scope) is deprecated and will be removed in a future version.\n",
            "\u001b[2m\u001b[36m(pid=2172)\u001b[0m Instructions for updating:\n",
            "\u001b[2m\u001b[36m(pid=2172)\u001b[0m non-resource variables are not supported in the long term\n",
            "\u001b[2m\u001b[36m(pid=2172)\u001b[0m 2021-06-03 04:49:59,724\tWARNING compression.py:16 -- lz4 not available, disabling sample compression. This will significantly impact RLlib performance. To install lz4, run `pip install lz4`.\n",
            "\u001b[2m\u001b[36m(pid=2172)\u001b[0m WARNING:tensorflow:From /usr/local/lib/python3.7/dist-packages/tensorflow_probability/python/internal/variadic_reduce.py:115: calling function (from tensorflow.python.eager.def_function) with experimental_compile is deprecated and will be removed in a future version.\n",
            "\u001b[2m\u001b[36m(pid=2172)\u001b[0m Instructions for updating:\n",
            "\u001b[2m\u001b[36m(pid=2172)\u001b[0m experimental_compile is deprecated, use jit_compile instead\n",
            "\u001b[2m\u001b[36m(pid=2173)\u001b[0m 2021-06-03 04:50:00,998\tWARNING util.py:53 -- Install gputil for GPU system monitoring.\n",
            "\u001b[2m\u001b[36m(pid=2173)\u001b[0m 2021-06-03 04:50:11,720\tWARNING deprecation.py:34 -- DeprecationWarning: `SampleBatch.data[..]` has been deprecated. Use `SampleBatch[..]` instead. This will raise an error in the future!\n"
          ],
          "name": "stderr"
        },
        {
          "output_type": "stream",
          "text": [
            "Result for PPO_TradingEnv_2241b_00000:\n",
            "  agent_timesteps_total: 4000\n",
            "  custom_metrics: {}\n",
            "  date: 2021-06-03_04-50-20\n",
            "  done: false\n",
            "  episode_len_mean: 793.8\n",
            "  episode_media: {}\n",
            "  episode_reward_max: 31.363943099975714\n",
            "  episode_reward_mean: 5.132381439209035\n",
            "  episode_reward_min: -7.82855224609369\n",
            "  episodes_this_iter: 5\n",
            "  episodes_total: 5\n",
            "  experiment_id: ff1762bf89f44cea8507d3a960d8b0c4\n",
            "  hostname: c6ae12c6f95b\n",
            "  info:\n",
            "    learner:\n",
            "      default_policy:\n",
            "        learner_stats:\n",
            "          allreduce_latency: 0.0\n",
            "          cur_kl_coeff: 0.2\n",
            "          cur_lr: 8.0e-06\n",
            "          entropy: 0.6772227231413126\n",
            "          entropy_coeff: 0.01\n",
            "          kl: 0.016429860377684236\n",
            "          policy_loss: -0.026492198870982975\n",
            "          total_loss: 0.4660375639796257\n",
            "          vf_explained_var: 0.004105560481548309\n",
            "          vf_loss: 0.9920320250093937\n",
            "    num_agent_steps_sampled: 4000\n",
            "    num_steps_sampled: 4000\n",
            "    num_steps_trained: 4000\n",
            "  iterations_since_restore: 1\n",
            "  node_ip: 172.28.0.2\n",
            "  num_healthy_workers: 1\n",
            "  off_policy_estimator: {}\n",
            "  perf:\n",
            "    cpu_util_percent: 56.731034482758616\n",
            "    ram_util_percent: 15.758620689655174\n",
            "  pid: 2173\n",
            "  policy_reward_max: {}\n",
            "  policy_reward_mean: {}\n",
            "  policy_reward_min: {}\n",
            "  sampler_perf:\n",
            "    mean_action_processing_ms: 0.057572872750135215\n",
            "    mean_env_render_ms: 0.0\n",
            "    mean_env_wait_ms: 1.0790734909618238\n",
            "    mean_inference_ms: 1.3406863661892143\n",
            "    mean_raw_obs_processing_ms: 0.15961995752892832\n",
            "  time_since_restore: 19.769643783569336\n",
            "  time_this_iter_s: 19.769643783569336\n",
            "  time_total_s: 19.769643783569336\n",
            "  timers:\n",
            "    learn_throughput: 442.079\n",
            "    learn_time_ms: 9048.159\n",
            "    sample_throughput: 373.551\n",
            "    sample_time_ms: 10708.056\n",
            "    update_time_ms: 1.876\n",
            "  timestamp: 1622695820\n",
            "  timesteps_since_restore: 0\n",
            "  timesteps_total: 4000\n",
            "  training_iteration: 1\n",
            "  trial_id: 2241b_00000\n",
            "  \n"
          ],
          "name": "stdout"
        },
        {
          "output_type": "display_data",
          "data": {
            "text/html": [
              "== Status ==<br>Memory usage on this node: 2.0/12.7 GiB<br>Using FIFO scheduling algorithm.<br>Resources requested: 2.0/2 CPUs, 0/0 GPUs, 0.0/7.33 GiB heap, 0.0/3.66 GiB objects<br>Result logdir: /root/ray_results/PPO<br>Number of trials: 1/1 (1 RUNNING)<br><table>\n",
              "<thead>\n",
              "<tr><th>Trial name                </th><th>status  </th><th>loc            </th><th style=\"text-align: right;\">  iter</th><th style=\"text-align: right;\">  total time (s)</th><th style=\"text-align: right;\">  ts</th><th style=\"text-align: right;\">  reward</th><th style=\"text-align: right;\">  episode_reward_max</th><th style=\"text-align: right;\">  episode_reward_min</th><th style=\"text-align: right;\">  episode_len_mean</th></tr>\n",
              "</thead>\n",
              "<tbody>\n",
              "<tr><td>PPO_TradingEnv_2241b_00000</td><td>RUNNING </td><td>172.28.0.2:2173</td><td style=\"text-align: right;\">     1</td><td style=\"text-align: right;\">         19.7696</td><td style=\"text-align: right;\">4000</td><td style=\"text-align: right;\"> 5.13238</td><td style=\"text-align: right;\">             31.3639</td><td style=\"text-align: right;\">            -7.82855</td><td style=\"text-align: right;\">             793.8</td></tr>\n",
              "</tbody>\n",
              "</table><br><br>"
            ],
            "text/plain": [
              "<IPython.core.display.HTML object>"
            ]
          },
          "metadata": {
            "tags": []
          }
        },
        {
          "output_type": "stream",
          "text": [
            "Result for PPO_TradingEnv_2241b_00000:\n",
            "  agent_timesteps_total: 8000\n",
            "  custom_metrics: {}\n",
            "  date: 2021-06-03_04-50-40\n",
            "  done: false\n",
            "  episode_len_mean: 865.2222222222222\n",
            "  episode_media: {}\n",
            "  episode_reward_max: 41.94111824035673\n",
            "  episode_reward_mean: 8.430772145589268\n",
            "  episode_reward_min: -7.82855224609369\n",
            "  episodes_this_iter: 4\n",
            "  episodes_total: 9\n",
            "  experiment_id: ff1762bf89f44cea8507d3a960d8b0c4\n",
            "  hostname: c6ae12c6f95b\n",
            "  info:\n",
            "    learner:\n",
            "      default_policy:\n",
            "        learner_stats:\n",
            "          allreduce_latency: 0.0\n",
            "          cur_kl_coeff: 0.2\n",
            "          cur_lr: 8.0e-06\n",
            "          entropy: 0.6480051800608635\n",
            "          entropy_coeff: 0.01\n",
            "          kl: 0.01516546806669794\n",
            "          policy_loss: -0.04180016345344484\n",
            "          total_loss: 0.450627613812685\n",
            "          vf_explained_var: 0.0037966370582580566\n",
            "          vf_loss: 0.9917494785040617\n",
            "    num_agent_steps_sampled: 8000\n",
            "    num_steps_sampled: 8000\n",
            "    num_steps_trained: 8000\n",
            "  iterations_since_restore: 2\n",
            "  node_ip: 172.28.0.2\n",
            "  num_healthy_workers: 1\n",
            "  off_policy_estimator: {}\n",
            "  perf:\n",
            "    cpu_util_percent: 56.81785714285714\n",
            "    ram_util_percent: 15.842857142857142\n",
            "  pid: 2173\n",
            "  policy_reward_max: {}\n",
            "  policy_reward_mean: {}\n",
            "  policy_reward_min: {}\n",
            "  sampler_perf:\n",
            "    mean_action_processing_ms: 0.05752736006915449\n",
            "    mean_env_render_ms: 0.0\n",
            "    mean_env_wait_ms: 1.0656898410592968\n",
            "    mean_inference_ms: 1.3456220899556353\n",
            "    mean_raw_obs_processing_ms: 0.15909783967508284\n",
            "  time_since_restore: 39.454479455947876\n",
            "  time_this_iter_s: 19.68483567237854\n",
            "  time_total_s: 39.454479455947876\n",
            "  timers:\n",
            "    learn_throughput: 439.021\n",
            "    learn_time_ms: 9111.176\n",
            "    sample_throughput: 377.211\n",
            "    sample_time_ms: 10604.136\n",
            "    update_time_ms: 1.982\n",
            "  timestamp: 1622695840\n",
            "  timesteps_since_restore: 0\n",
            "  timesteps_total: 8000\n",
            "  training_iteration: 2\n",
            "  trial_id: 2241b_00000\n",
            "  \n"
          ],
          "name": "stdout"
        },
        {
          "output_type": "display_data",
          "data": {
            "text/html": [
              "== Status ==<br>Memory usage on this node: 2.0/12.7 GiB<br>Using FIFO scheduling algorithm.<br>Resources requested: 2.0/2 CPUs, 0/0 GPUs, 0.0/7.33 GiB heap, 0.0/3.66 GiB objects<br>Result logdir: /root/ray_results/PPO<br>Number of trials: 1/1 (1 RUNNING)<br><table>\n",
              "<thead>\n",
              "<tr><th>Trial name                </th><th>status  </th><th>loc            </th><th style=\"text-align: right;\">  iter</th><th style=\"text-align: right;\">  total time (s)</th><th style=\"text-align: right;\">  ts</th><th style=\"text-align: right;\">  reward</th><th style=\"text-align: right;\">  episode_reward_max</th><th style=\"text-align: right;\">  episode_reward_min</th><th style=\"text-align: right;\">  episode_len_mean</th></tr>\n",
              "</thead>\n",
              "<tbody>\n",
              "<tr><td>PPO_TradingEnv_2241b_00000</td><td>RUNNING </td><td>172.28.0.2:2173</td><td style=\"text-align: right;\">     2</td><td style=\"text-align: right;\">         39.4545</td><td style=\"text-align: right;\">8000</td><td style=\"text-align: right;\"> 8.43077</td><td style=\"text-align: right;\">             41.9411</td><td style=\"text-align: right;\">            -7.82855</td><td style=\"text-align: right;\">           865.222</td></tr>\n",
              "</tbody>\n",
              "</table><br><br>"
            ],
            "text/plain": [
              "<IPython.core.display.HTML object>"
            ]
          },
          "metadata": {
            "tags": []
          }
        },
        {
          "output_type": "stream",
          "text": [
            "Result for PPO_TradingEnv_2241b_00000:\n",
            "  agent_timesteps_total: 12000\n",
            "  custom_metrics: {}\n",
            "  date: 2021-06-03_04-50-59\n",
            "  done: false\n",
            "  episode_len_mean: 911.1538461538462\n",
            "  episode_media: {}\n",
            "  episode_reward_max: 41.94111824035673\n",
            "  episode_reward_mean: 9.50252738365767\n",
            "  episode_reward_min: -7.82855224609369\n",
            "  episodes_this_iter: 4\n",
            "  episodes_total: 13\n",
            "  experiment_id: ff1762bf89f44cea8507d3a960d8b0c4\n",
            "  hostname: c6ae12c6f95b\n",
            "  info:\n",
            "    learner:\n",
            "      default_policy:\n",
            "        learner_stats:\n",
            "          allreduce_latency: 0.0\n",
            "          cur_kl_coeff: 0.2\n",
            "          cur_lr: 8.0e-06\n",
            "          entropy: 0.6013300195336342\n",
            "          entropy_coeff: 0.01\n",
            "          kl: 0.015929949906421825\n",
            "          policy_loss: -0.04065512932720594\n",
            "          total_loss: 0.4525435660034418\n",
            "          vf_explained_var: 0.0032619908452033997\n",
            "          vf_loss: 0.9920520111918449\n",
            "    num_agent_steps_sampled: 12000\n",
            "    num_steps_sampled: 12000\n",
            "    num_steps_trained: 12000\n",
            "  iterations_since_restore: 3\n",
            "  node_ip: 172.28.0.2\n",
            "  num_healthy_workers: 1\n",
            "  off_policy_estimator: {}\n",
            "  perf:\n",
            "    cpu_util_percent: 56.82142857142857\n",
            "    ram_util_percent: 15.896428571428569\n",
            "  pid: 2173\n",
            "  policy_reward_max: {}\n",
            "  policy_reward_mean: {}\n",
            "  policy_reward_min: {}\n",
            "  sampler_perf:\n",
            "    mean_action_processing_ms: 0.05749835413076947\n",
            "    mean_env_render_ms: 0.0\n",
            "    mean_env_wait_ms: 1.058341458799347\n",
            "    mean_inference_ms: 1.3490276869568552\n",
            "    mean_raw_obs_processing_ms: 0.15882496014157213\n",
            "  time_since_restore: 58.825491189956665\n",
            "  time_this_iter_s: 19.37101173400879\n",
            "  time_total_s: 58.825491189956665\n",
            "  timers:\n",
            "    learn_throughput: 444.132\n",
            "    learn_time_ms: 9006.322\n",
            "    sample_throughput: 377.72\n",
            "    sample_time_ms: 10589.847\n",
            "    update_time_ms: 2.104\n",
            "  timestamp: 1622695859\n",
            "  timesteps_since_restore: 0\n",
            "  timesteps_total: 12000\n",
            "  training_iteration: 3\n",
            "  trial_id: 2241b_00000\n",
            "  \n"
          ],
          "name": "stdout"
        },
        {
          "output_type": "display_data",
          "data": {
            "text/html": [
              "== Status ==<br>Memory usage on this node: 2.0/12.7 GiB<br>Using FIFO scheduling algorithm.<br>Resources requested: 2.0/2 CPUs, 0/0 GPUs, 0.0/7.33 GiB heap, 0.0/3.66 GiB objects<br>Result logdir: /root/ray_results/PPO<br>Number of trials: 1/1 (1 RUNNING)<br><table>\n",
              "<thead>\n",
              "<tr><th>Trial name                </th><th>status  </th><th>loc            </th><th style=\"text-align: right;\">  iter</th><th style=\"text-align: right;\">  total time (s)</th><th style=\"text-align: right;\">   ts</th><th style=\"text-align: right;\">  reward</th><th style=\"text-align: right;\">  episode_reward_max</th><th style=\"text-align: right;\">  episode_reward_min</th><th style=\"text-align: right;\">  episode_len_mean</th></tr>\n",
              "</thead>\n",
              "<tbody>\n",
              "<tr><td>PPO_TradingEnv_2241b_00000</td><td>RUNNING </td><td>172.28.0.2:2173</td><td style=\"text-align: right;\">     3</td><td style=\"text-align: right;\">         58.8255</td><td style=\"text-align: right;\">12000</td><td style=\"text-align: right;\"> 9.50253</td><td style=\"text-align: right;\">             41.9411</td><td style=\"text-align: right;\">            -7.82855</td><td style=\"text-align: right;\">           911.154</td></tr>\n",
              "</tbody>\n",
              "</table><br><br>"
            ],
            "text/plain": [
              "<IPython.core.display.HTML object>"
            ]
          },
          "metadata": {
            "tags": []
          }
        },
        {
          "output_type": "stream",
          "text": [
            "Result for PPO_TradingEnv_2241b_00000:\n",
            "  agent_timesteps_total: 16000\n",
            "  custom_metrics: {}\n",
            "  date: 2021-06-03_04-51-19\n",
            "  done: true\n",
            "  episode_len_mean: 992.5\n",
            "  episode_media: {}\n",
            "  episode_reward_max: 41.94111824035673\n",
            "  episode_reward_mean: 11.923270821571414\n",
            "  episode_reward_min: -7.82855224609369\n",
            "  episodes_this_iter: 3\n",
            "  episodes_total: 16\n",
            "  experiment_id: ff1762bf89f44cea8507d3a960d8b0c4\n",
            "  hostname: c6ae12c6f95b\n",
            "  info:\n",
            "    learner:\n",
            "      default_policy:\n",
            "        learner_stats:\n",
            "          allreduce_latency: 0.0\n",
            "          cur_kl_coeff: 0.2\n",
            "          cur_lr: 8.0e-06\n",
            "          entropy: 0.5706894136965275\n",
            "          entropy_coeff: 0.01\n",
            "          kl: 0.011410825012717396\n",
            "          policy_loss: -0.03224758728174493\n",
            "          total_loss: 0.4584740214049816\n",
            "          vf_explained_var: 0.004826279357075691\n",
            "          vf_loss: 0.9882926791906357\n",
            "    num_agent_steps_sampled: 16000\n",
            "    num_steps_sampled: 16000\n",
            "    num_steps_trained: 16000\n",
            "  iterations_since_restore: 4\n",
            "  node_ip: 172.28.0.2\n",
            "  num_healthy_workers: 1\n",
            "  off_policy_estimator: {}\n",
            "  perf:\n",
            "    cpu_util_percent: 56.65\n",
            "    ram_util_percent: 15.874999999999996\n",
            "  pid: 2173\n",
            "  policy_reward_max: {}\n",
            "  policy_reward_mean: {}\n",
            "  policy_reward_min: {}\n",
            "  sampler_perf:\n",
            "    mean_action_processing_ms: 0.05752439956553626\n",
            "    mean_env_render_ms: 0.0\n",
            "    mean_env_wait_ms: 1.0585168614286347\n",
            "    mean_inference_ms: 1.3526879587746543\n",
            "    mean_raw_obs_processing_ms: 0.15882603907622161\n",
            "  time_since_restore: 78.76376795768738\n",
            "  time_this_iter_s: 19.938276767730713\n",
            "  time_total_s: 78.76376795768738\n",
            "  timers:\n",
            "    learn_throughput: 445.834\n",
            "    learn_time_ms: 8971.959\n",
            "    sample_throughput: 373.603\n",
            "    sample_time_ms: 10706.54\n",
            "    update_time_ms: 2.145\n",
            "  timestamp: 1622695879\n",
            "  timesteps_since_restore: 0\n",
            "  timesteps_total: 16000\n",
            "  training_iteration: 4\n",
            "  trial_id: 2241b_00000\n",
            "  \n"
          ],
          "name": "stdout"
        },
        {
          "output_type": "display_data",
          "data": {
            "text/html": [
              "== Status ==<br>Memory usage on this node: 2.0/12.7 GiB<br>Using FIFO scheduling algorithm.<br>Resources requested: 2.0/2 CPUs, 0/0 GPUs, 0.0/7.33 GiB heap, 0.0/3.66 GiB objects<br>Result logdir: /root/ray_results/PPO<br>Number of trials: 1/1 (1 RUNNING)<br><table>\n",
              "<thead>\n",
              "<tr><th>Trial name                </th><th>status  </th><th>loc            </th><th style=\"text-align: right;\">  iter</th><th style=\"text-align: right;\">  total time (s)</th><th style=\"text-align: right;\">   ts</th><th style=\"text-align: right;\">  reward</th><th style=\"text-align: right;\">  episode_reward_max</th><th style=\"text-align: right;\">  episode_reward_min</th><th style=\"text-align: right;\">  episode_len_mean</th></tr>\n",
              "</thead>\n",
              "<tbody>\n",
              "<tr><td>PPO_TradingEnv_2241b_00000</td><td>RUNNING </td><td>172.28.0.2:2173</td><td style=\"text-align: right;\">     4</td><td style=\"text-align: right;\">         78.7638</td><td style=\"text-align: right;\">16000</td><td style=\"text-align: right;\"> 11.9233</td><td style=\"text-align: right;\">             41.9411</td><td style=\"text-align: right;\">            -7.82855</td><td style=\"text-align: right;\">             992.5</td></tr>\n",
              "</tbody>\n",
              "</table><br><br>"
            ],
            "text/plain": [
              "<IPython.core.display.HTML object>"
            ]
          },
          "metadata": {
            "tags": []
          }
        },
        {
          "output_type": "display_data",
          "data": {
            "text/html": [
              "== Status ==<br>Memory usage on this node: 2.0/12.7 GiB<br>Using FIFO scheduling algorithm.<br>Resources requested: 0/2 CPUs, 0/0 GPUs, 0.0/7.33 GiB heap, 0.0/3.66 GiB objects<br>Result logdir: /root/ray_results/PPO<br>Number of trials: 1/1 (1 TERMINATED)<br><table>\n",
              "<thead>\n",
              "<tr><th>Trial name                </th><th>status    </th><th>loc  </th><th style=\"text-align: right;\">  iter</th><th style=\"text-align: right;\">  total time (s)</th><th style=\"text-align: right;\">   ts</th><th style=\"text-align: right;\">  reward</th><th style=\"text-align: right;\">  episode_reward_max</th><th style=\"text-align: right;\">  episode_reward_min</th><th style=\"text-align: right;\">  episode_len_mean</th></tr>\n",
              "</thead>\n",
              "<tbody>\n",
              "<tr><td>PPO_TradingEnv_2241b_00000</td><td>TERMINATED</td><td>     </td><td style=\"text-align: right;\">     4</td><td style=\"text-align: right;\">         78.7638</td><td style=\"text-align: right;\">16000</td><td style=\"text-align: right;\"> 11.9233</td><td style=\"text-align: right;\">             41.9411</td><td style=\"text-align: right;\">            -7.82855</td><td style=\"text-align: right;\">             992.5</td></tr>\n",
              "</tbody>\n",
              "</table><br><br>"
            ],
            "text/plain": [
              "<IPython.core.display.HTML object>"
            ]
          },
          "metadata": {
            "tags": []
          }
        },
        {
          "output_type": "stream",
          "text": [
            "2021-06-03 04:51:20,352\tINFO tune.py:549 -- Total run time: 88.16 seconds (87.66 seconds for the tuning loop).\n"
          ],
          "name": "stderr"
        }
      ]
    },
    {
      "cell_type": "code",
      "metadata": {
        "id": "vZbL2w4Z3QQZ",
        "colab": {
          "base_uri": "https://localhost:8080/"
        },
        "outputId": "12a8b2a9-5737-4d6f-a114-9d4fa97b0c0c"
      },
      "source": [
        "checkpoints = analysis.get_trial_checkpoints_paths(\n",
        "    trial=analysis.get_best_trial(metric=\"episode_reward_mean\", mode=\"max\"),\n",
        "    metric=\"episode_reward_mean\"\n",
        ")\n",
        "checkpoint_path = checkpoints[0][0]\n",
        "\n",
        "# Restore agent\n",
        "agent = ppo.PPOTrainer(\n",
        "    env=\"TradingEnv\",\n",
        "    config={\n",
        "        \"env_config\": {\n",
        "            \"window_size\": 25\n",
        "        },\n",
        "        \"framework\": \"torch\",\n",
        "        \"ignore_worker_failures\": True,\n",
        "        \"num_workers\": 1,\n",
        "        \"num_gpus\": 0,\n",
        "        \"clip_rewards\": True,\n",
        "        \"lr\": 8e-6,\n",
        "        \"gamma\": 0,\n",
        "        \"observation_filter\": \"MeanStdFilter\",\n",
        "        \"lambda\": 0.72,\n",
        "        \"vf_loss_coeff\": 0.5,\n",
        "        \"entropy_coeff\": 0.01\n",
        "    }\n",
        ")\n",
        "agent.restore(checkpoint_path)"
      ],
      "execution_count": null,
      "outputs": [
        {
          "output_type": "stream",
          "text": [
            "2021-06-03 04:51:25,782\tINFO trainer.py:696 -- Current log_level is WARN. For more information, set 'log_level': 'INFO' / 'DEBUG' or use the -v and -vv flags.\n",
            "\u001b[2m\u001b[33m(raylet)\u001b[0m /usr/local/lib/python3.7/dist-packages/ray/autoscaler/_private/cli_logger.py:61: FutureWarning: Not all Ray CLI dependencies were found. In Ray 1.4+, the Ray CLI, autoscaler, and dashboard will only be usable via `pip install 'ray[default]'`. Please update your install command.\n",
            "\u001b[2m\u001b[33m(raylet)\u001b[0m   \"update your install command.\", FutureWarning)\n",
            "\u001b[2m\u001b[36m(pid=2262)\u001b[0m WARNING:tensorflow:From /usr/local/lib/python3.7/dist-packages/tensorflow/python/compat/v2_compat.py:96: disable_resource_variables (from tensorflow.python.ops.variable_scope) is deprecated and will be removed in a future version.\n",
            "\u001b[2m\u001b[36m(pid=2262)\u001b[0m Instructions for updating:\n",
            "\u001b[2m\u001b[36m(pid=2262)\u001b[0m non-resource variables are not supported in the long term\n",
            "\u001b[2m\u001b[36m(pid=2262)\u001b[0m 2021-06-03 04:51:29,275\tWARNING compression.py:16 -- lz4 not available, disabling sample compression. This will significantly impact RLlib performance. To install lz4, run `pip install lz4`.\n",
            "\u001b[2m\u001b[36m(pid=2262)\u001b[0m WARNING:tensorflow:From /usr/local/lib/python3.7/dist-packages/tensorflow_probability/python/internal/variadic_reduce.py:115: calling function (from tensorflow.python.eager.def_function) with experimental_compile is deprecated and will be removed in a future version.\n",
            "\u001b[2m\u001b[36m(pid=2262)\u001b[0m Instructions for updating:\n",
            "\u001b[2m\u001b[36m(pid=2262)\u001b[0m experimental_compile is deprecated, use jit_compile instead\n",
            "2021-06-03 04:51:30,562\tWARNING util.py:53 -- Install gputil for GPU system monitoring.\n",
            "2021-06-03 04:51:30,583\tINFO trainable.py:378 -- Restored on 172.28.0.2 from checkpoint: /root/ray_results/PPO/PPO_TradingEnv_2241b_00000_0_2021-06-03_04-49-52/checkpoint_000004/checkpoint-4\n",
            "2021-06-03 04:51:30,585\tINFO trainable.py:385 -- Current state after restoring: {'_iteration': 4, '_timesteps_total': None, '_time_total': 78.76376795768738, '_episodes_total': 16}\n"
          ],
          "name": "stderr"
        }
      ]
    },
    {
      "cell_type": "code",
      "metadata": {
        "id": "kDUaANX6-BIR",
        "colab": {
          "base_uri": "https://localhost:8080/",
          "height": 373
        },
        "outputId": "a019e6dc-d00a-40bb-fafe-61139b3986a0"
      },
      "source": [
        "env = create_env({\n",
        "    \"window_size\": 25\n",
        "})\n",
        "\n",
        "episode_reward = 0\n",
        "done = False\n",
        "obs = env.reset()\n",
        "\n",
        "while not done:\n",
        "    action = agent.compute_action(obs)\n",
        "    obs, reward, done, info = env.step(action)\n",
        "    episode_reward += reward\n",
        "\n",
        "env.render()"
      ],
      "execution_count": null,
      "outputs": [
        {
          "output_type": "display_data",
          "data": {
            "image/png": "[encoded data removed]",
            "text/plain": [
              "<Figure size 1080x360 with 2 Axes>"
            ]
          },
          "metadata": {
            "tags": []
          }
        }
      ]
    },
    {
      "cell_type": "markdown",
      "metadata": {
        "id": "_nwR_o875Ybp"
      },
      "source": [
        "#**Evaluate**"
      ]
    },
    {
      "cell_type": "code",
      "metadata": {
        "id": "dQ9BpdeW44eX"
      },
      "source": [
        "def create_eval_env(config: dict):\n",
        "    #close price\n",
        "    p = Stream.source(Ctestfeed, dtype=\"float\").rename(\"USD-AAPL\")\n",
        "    #open price\n",
        "    O = Stream.source(Otestfeed, dtype=\"float\").rename(\"open\")\n",
        "    #volume\n",
        "    V = Stream.source(Vtestfeed, dtype=\"float\").rename(\"volume\")\n",
        "    #high\n",
        "    H = Stream.source(Htestfeed, dtype=\"float\").rename(\"high\")\n",
        "    #low\n",
        "    L = Stream.source(Ltestfeed, dtype=\"float\").rename(\"low\")\n",
        "\n",
        "    stockexchange = Exchange(\"Nasdaq\", service=execute_order)(\n",
        "        p\n",
        "    )\n",
        "\n",
        "    cash = Wallet(stockexchange, 10000 * USD)\n",
        "    asset = Wallet(stockexchange, 0 * AAPL)\n",
        "\n",
        "    portfolio = Portfolio(USD, [\n",
        "        cash,\n",
        "        asset\n",
        "    ])\n",
        "\n",
        "    feed = DataFeed([\n",
        "        p,\n",
        "        p.ewm(span=10).mean().rename(\"fast\"),\n",
        "        p.ewm(span=50).mean().rename(\"medium\"),\n",
        "        p.ewm(span=100).mean().rename(\"slow\"),\n",
        "        p.log().diff().fillna(0).rename(\"lr\"),\n",
        "        rsi(p, period=20).rename(\"rsi\"),\n",
        "        macd(p, fast=10, slow=50, signal=5).rename(\"macd\"),\n",
        "        O,\n",
        "        H,\n",
        "        L,\n",
        "        V\n",
        "    ])\n",
        "\n",
        "    reward_scheme = PBR(price=p)\n",
        "\n",
        "    action_scheme = BSH(\n",
        "        cash=cash,\n",
        "        asset=asset\n",
        "    ).attach(reward_scheme)\n",
        "\n",
        "    renderer_feed = DataFeed([\n",
        "        Stream.source(Ctestfeed, dtype=\"float\").rename(\"price\"),\n",
        "        Stream.sensor(action_scheme, lambda s: s.action, dtype=\"float\").rename(\"action\")\n",
        "    ])\n",
        "\n",
        "    environment = default.create(\n",
        "        feed=feed,\n",
        "        portfolio=portfolio,\n",
        "        action_scheme=action_scheme,\n",
        "        reward_scheme=reward_scheme,\n",
        "        renderer_feed=renderer_feed,\n",
        "        renderer=PositionChangeChart(),\n",
        "        window_size=config[\"window_size\"],\n",
        "        max_allowed_loss=0.6\n",
        "    )\n",
        "    return environment"
      ],
      "execution_count": null,
      "outputs": []
    },
    {
      "cell_type": "code",
      "metadata": {
        "id": "-5oVmvYe4uTN",
        "colab": {
          "base_uri": "https://localhost:8080/",
          "height": 406
        },
        "outputId": "a800191f-f463-442b-af60-83f0a6f8a399"
      },
      "source": [
        "env = create_eval_env({\n",
        "    \"window_size\": 25\n",
        "})\n",
        "\n",
        "episode_reward = 0\n",
        "done = False\n",
        "obs = env.reset()\n",
        "\n",
        "while not done:\n",
        "    action = agent.compute_action(obs)\n",
        "    obs, reward, done, info = env.step(action)\n",
        "    episode_reward += reward\n",
        "\n",
        "env.render()"
      ],
      "execution_count": null,
      "outputs": [
        {
          "output_type": "stream",
          "text": [
            "/usr/local/lib/python3.7/dist-packages/tensortrade/feed/core/operators.py:171: RuntimeWarning: divide by zero encountered in true_divide\n",
            "  return self.op(self.inputs[0].value, self.inputs[1].value)\n"
          ],
          "name": "stderr"
        },
        {
          "output_type": "display_data",
          "data": {
            "image/png": "[encoded data removed]",
            "text/plain": [
              "<Figure size 1080x360 with 2 Axes>"
            ]
          },
          "metadata": {
            "tags": []
          }
        }
      ]
    }
  ]
}