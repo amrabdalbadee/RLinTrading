{
  "nbformat": 4,
  "nbformat_minor": 0,
  "metadata": {
    "colab": {
      "name": "Single_Instrument_gain_lose.ipynb",
      "provenance": [],
      "collapsed_sections": [],
      "include_colab_link": true
    },
    "kernelspec": {
      "name": "python3",
      "display_name": "Python 3"
    }
  },
  "cells": [
    {
      "cell_type": "markdown",
      "metadata": {
        "id": "view-in-github",
        "colab_type": "text"
      },
      "source": [
        "<a href=\"https://colab.research.google.com/github/amrmoohamed/RLinTrading/blob/main/Single_Instrument_gain_lose.ipynb\" target=\"_parent\"><img src=\"https://colab.research.google.com/assets/colab-badge.svg\" alt=\"Open In Colab\"/></a>"
      ]
    },
    {
      "cell_type": "markdown",
      "metadata": {
        "id": "P7sW0zVhPrqg"
      },
      "source": [
        "#**Article**\n",
        "https://levelup.gitconnected.com/using-tensortrade-for-making-a-simple-trading-algorithm-6fad4d9bc79c\n",
        "\n"
      ]
    },
    {
      "cell_type": "markdown",
      "metadata": {
        "id": "HFHPjpT9jPoX"
      },
      "source": [
        "#**installation**"
      ]
    },
    {
      "cell_type": "code",
      "metadata": {
        "id": "QIII1V_cqD3P"
      },
      "source": [
        "!#!cp -r /content/tensortrade /usr/local/lib/python3.7/dist-packages\n",
        "\n",
        "#insatalling Tensortrade module\n",
        "!pip install git+https://github.com/tensortrade-org/tensortrade.git\n",
        "!pip install -r /content/tensortrade/requirements.txt\n",
        "#installing some modules\n",
        "!pip install ccxt\n",
        "!pip install ray\n",
        "!pip install symfit\n",
        "!pip install tensorboardX"
      ],
      "execution_count": null,
      "outputs": []
    },
    {
      "cell_type": "code",
      "metadata": {
        "id": "VzDRrehz8XII"
      },
      "source": [
        "!pip install yahoo_fin\n",
        "!pip install yfinance"
      ],
      "execution_count": null,
      "outputs": []
    },
    {
      "cell_type": "markdown",
      "metadata": {
        "id": "WIXuStDUHoga"
      },
      "source": [
        "**Remember to restart runtime after installing!!**"
      ]
    },
    {
      "cell_type": "markdown",
      "metadata": {
        "id": "ZnC2SuxxJEGT"
      },
      "source": [
        "#**Importing**"
      ]
    },
    {
      "cell_type": "code",
      "metadata": {
        "id": "bilXEqVFqJ1k"
      },
      "source": [
        "import os\n",
        "from datetime import datetime\n",
        "\n",
        "import matplotlib.pyplot as plt\n",
        "import numpy as np\n",
        "import pandas as pd\n",
        "import ray\n",
        "import ray.rllib.agents.ppo as ppo\n",
        "import tensortrade.env.default as default\n",
        "from gym.spaces import Discrete\n",
        "from ray import tune\n",
        "from ray.tune.registry import register_env\n",
        "from symfit import parameters, variables, sin, cos, Fit\n",
        "from tensortrade.env.default.actions import TensorTradeActionScheme\n",
        "from tensortrade.env.default.rewards import TensorTradeRewardScheme\n",
        "from tensortrade.env.generic import Renderer\n",
        "from tensortrade.feed.core import DataFeed, Stream\n",
        "from tensortrade.oms.exchanges import Exchange\n",
        "from tensortrade.oms.instruments import Instrument\n",
        "from tensortrade.oms.orders import proportion_order\n",
        "from tensortrade.oms.services.execution.simulated import execute_order\n",
        "from tensortrade.oms.wallets import Wallet, Portfolio"
      ],
      "execution_count": null,
      "outputs": []
    },
    {
      "cell_type": "code",
      "metadata": {
        "id": "1xAwJxUc6iEn"
      },
      "source": [
        "from pandas_datareader import data as pdr\n",
        "from yahoo_fin import stock_info as si\n",
        "from yahoo_fin.stock_info import get_data\n",
        "from pandas import ExcelWriter\n",
        "import yfinance as yf\n",
        "import pandas as pd\n",
        "import datetime\n",
        "import time\n",
        "yf.pdr_override()"
      ],
      "execution_count": null,
      "outputs": []
    },
    {
      "cell_type": "markdown",
      "metadata": {
        "id": "C0C9Bu5l27fq"
      },
      "source": [
        "#**Retreive Data**"
      ]
    },
    {
      "cell_type": "code",
      "metadata": {
        "id": "RXBaywSqmlyi"
      },
      "source": [
        "yeartoday = 365\n",
        "years = 2\n",
        "start_date = datetime.datetime.now() - datetime.timedelta(days= years*yeartoday)\n",
        "\n",
        "end_date = datetime.date.today()"
      ],
      "execution_count": null,
      "outputs": []
    },
    {
      "cell_type": "code",
      "metadata": {
        "id": "HB6i4TFP08-I"
      },
      "source": [
        "gainers = si.get_day_gainers()\n",
        "topgainersymbol = list(gainers[:1]['Symbol'])[0]\n",
        "\n",
        "losers = si.get_day_losers()\n",
        "toplosersymbol = list(losers[:1]['Symbol'])[0]"
      ],
      "execution_count": null,
      "outputs": []
    },
    {
      "cell_type": "code",
      "metadata": {
        "colab": {
          "base_uri": "https://localhost:8080/"
        },
        "id": "-Ny6KE1q1z1F",
        "outputId": "4bf50d32-c64b-4ddd-c2fa-0600eb3be06b"
      },
      "source": [
        "print(topgainersymbol,toplosersymbol)"
      ],
      "execution_count": null,
      "outputs": [
        {
          "output_type": "stream",
          "text": [
            "AMC MOR\n"
          ],
          "name": "stdout"
        }
      ]
    },
    {
      "cell_type": "code",
      "metadata": {
        "id": "3eD7Krk10FLU"
      },
      "source": [
        "df = get_data(topgainersymbol,start_date,end_date,index_as_date = True, interval=\"1d\")\n",
        "df.to_csv(f'{topgainersymbol}.csv')\n",
        "\n",
        "df = get_data(toplosersymbol,start_date,end_date,index_as_date = True, interval=\"1d\")\n",
        "df.to_csv(f'{toplosersymbol}.csv')"
      ],
      "execution_count": null,
      "outputs": []
    },
    {
      "cell_type": "markdown",
      "metadata": {
        "id": "pOWxPa9CGZVr"
      },
      "source": [
        "#**Top-gainer data preprocessing**"
      ]
    },
    {
      "cell_type": "code",
      "metadata": {
        "colab": {
          "base_uri": "https://localhost:8080/",
          "height": 107
        },
        "id": "BtDexRd9jwrs",
        "outputId": "aa5a437c-de97-436e-d990-77b34699e6e3"
      },
      "source": [
        "data = pd.read_csv(f'{topgainersymbol}.csv', index_col=0)\n",
        "data.head(2)"
      ],
      "execution_count": null,
      "outputs": [
        {
          "output_type": "execute_result",
          "data": {
            "text/html": [
              "<div>\n",
              "<style scoped>\n",
              "    .dataframe tbody tr th:only-of-type {\n",
              "        vertical-align: middle;\n",
              "    }\n",
              "\n",
              "    .dataframe tbody tr th {\n",
              "        vertical-align: top;\n",
              "    }\n",
              "\n",
              "    .dataframe thead th {\n",
              "        text-align: right;\n",
              "    }\n",
              "</style>\n",
              "<table border=\"1\" class=\"dataframe\">\n",
              "  <thead>\n",
              "    <tr style=\"text-align: right;\">\n",
              "      <th></th>\n",
              "      <th>open</th>\n",
              "      <th>high</th>\n",
              "      <th>low</th>\n",
              "      <th>close</th>\n",
              "      <th>adjclose</th>\n",
              "      <th>volume</th>\n",
              "      <th>ticker</th>\n",
              "    </tr>\n",
              "  </thead>\n",
              "  <tbody>\n",
              "    <tr>\n",
              "      <th>2019-06-04</th>\n",
              "      <td>12.01</td>\n",
              "      <td>12.08</td>\n",
              "      <td>11.75</td>\n",
              "      <td>11.78</td>\n",
              "      <td>11.037498</td>\n",
              "      <td>2012500</td>\n",
              "      <td>AMC</td>\n",
              "    </tr>\n",
              "    <tr>\n",
              "      <th>2019-06-05</th>\n",
              "      <td>11.85</td>\n",
              "      <td>11.87</td>\n",
              "      <td>11.13</td>\n",
              "      <td>11.18</td>\n",
              "      <td>10.475316</td>\n",
              "      <td>3452700</td>\n",
              "      <td>AMC</td>\n",
              "    </tr>\n",
              "  </tbody>\n",
              "</table>\n",
              "</div>"
            ],
            "text/plain": [
              "             open   high    low  close   adjclose   volume ticker\n",
              "2019-06-04  12.01  12.08  11.75  11.78  11.037498  2012500    AMC\n",
              "2019-06-05  11.85  11.87  11.13  11.18  10.475316  3452700    AMC"
            ]
          },
          "metadata": {
            "tags": []
          },
          "execution_count": 9
        }
      ]
    },
    {
      "cell_type": "code",
      "metadata": {
        "id": "X39tAT7ipeN2"
      },
      "source": [
        "datasize = data.shape[0]\n",
        "trainsize = 0.9\n",
        "split = round(trainsize*datasize)\n",
        "traindata = data.iloc[:split,:]\n",
        "testdata = data.iloc[split:,:]"
      ],
      "execution_count": null,
      "outputs": []
    },
    {
      "cell_type": "code",
      "metadata": {
        "colab": {
          "base_uri": "https://localhost:8080/"
        },
        "id": "AL3o1HItpaTU",
        "outputId": "867607e2-d0b5-482b-9673-8007e8a00914"
      },
      "source": [
        "print(data.shape,traindata.shape,testdata.shape)"
      ],
      "execution_count": null,
      "outputs": [
        {
          "output_type": "stream",
          "text": [
            "(504, 7) (454, 7) (50, 7)\n"
          ],
          "name": "stdout"
        }
      ]
    },
    {
      "cell_type": "code",
      "metadata": {
        "id": "hmCmJJit-iSB"
      },
      "source": [
        "Ctrainfeed = traindata['close'].to_numpy()\n",
        "Ctestfeed = testdata['close'].to_numpy()\n",
        "\n",
        "Otrainfeed = traindata['open'].to_numpy()\n",
        "Otestfeed = testdata['open'].to_numpy()\n",
        "\n",
        "Htrainfeed = traindata['high'].to_numpy()\n",
        "Htestfeed = testdata['high'].to_numpy()\n",
        "\n",
        "Ltrainfeed = traindata['low'].to_numpy()\n",
        "Ltestfeed = testdata['low'].to_numpy()\n",
        "\n",
        "Vtrainfeed = traindata['volume'].to_numpy()\n",
        "Vtestfeed = testdata['volume'].to_numpy()"
      ],
      "execution_count": null,
      "outputs": []
    },
    {
      "cell_type": "markdown",
      "metadata": {
        "id": "bvjPa5NAGibI"
      },
      "source": [
        "#**Top-loser data preprocessing**"
      ]
    },
    {
      "cell_type": "code",
      "metadata": {
        "colab": {
          "base_uri": "https://localhost:8080/",
          "height": 107
        },
        "id": "TAJwKY4FGlMp",
        "outputId": "7fb7fe99-4fcd-4761-8e3e-f55e95303d55"
      },
      "source": [
        "dataa = pd.read_csv(f'{toplosersymbol}.csv', index_col=0)\n",
        "dataa.head(2)"
      ],
      "execution_count": null,
      "outputs": [
        {
          "output_type": "execute_result",
          "data": {
            "text/html": [
              "<div>\n",
              "<style scoped>\n",
              "    .dataframe tbody tr th:only-of-type {\n",
              "        vertical-align: middle;\n",
              "    }\n",
              "\n",
              "    .dataframe tbody tr th {\n",
              "        vertical-align: top;\n",
              "    }\n",
              "\n",
              "    .dataframe thead th {\n",
              "        text-align: right;\n",
              "    }\n",
              "</style>\n",
              "<table border=\"1\" class=\"dataframe\">\n",
              "  <thead>\n",
              "    <tr style=\"text-align: right;\">\n",
              "      <th></th>\n",
              "      <th>open</th>\n",
              "      <th>high</th>\n",
              "      <th>low</th>\n",
              "      <th>close</th>\n",
              "      <th>adjclose</th>\n",
              "      <th>volume</th>\n",
              "      <th>ticker</th>\n",
              "    </tr>\n",
              "  </thead>\n",
              "  <tbody>\n",
              "    <tr>\n",
              "      <th>2019-06-04</th>\n",
              "      <td>23.41</td>\n",
              "      <td>23.410000</td>\n",
              "      <td>23.08</td>\n",
              "      <td>23.24</td>\n",
              "      <td>23.24</td>\n",
              "      <td>24800</td>\n",
              "      <td>MOR</td>\n",
              "    </tr>\n",
              "    <tr>\n",
              "      <th>2019-06-05</th>\n",
              "      <td>23.59</td>\n",
              "      <td>23.690001</td>\n",
              "      <td>23.17</td>\n",
              "      <td>23.25</td>\n",
              "      <td>23.25</td>\n",
              "      <td>20400</td>\n",
              "      <td>MOR</td>\n",
              "    </tr>\n",
              "  </tbody>\n",
              "</table>\n",
              "</div>"
            ],
            "text/plain": [
              "             open       high    low  close  adjclose  volume ticker\n",
              "2019-06-04  23.41  23.410000  23.08  23.24     23.24   24800    MOR\n",
              "2019-06-05  23.59  23.690001  23.17  23.25     23.25   20400    MOR"
            ]
          },
          "metadata": {
            "tags": []
          },
          "execution_count": 7
        }
      ]
    },
    {
      "cell_type": "code",
      "metadata": {
        "id": "7Rd-qovMGlVE"
      },
      "source": [
        "datasize = dataa.shape[0]\n",
        "trainsize = 0.9\n",
        "split = round(trainsize*datasize)\n",
        "traindataa = dataa.iloc[:split,:]\n",
        "testdataa = dataa.iloc[split:,:]"
      ],
      "execution_count": null,
      "outputs": []
    },
    {
      "cell_type": "code",
      "metadata": {
        "colab": {
          "base_uri": "https://localhost:8080/"
        },
        "id": "fhoMT88ZGlcy",
        "outputId": "8b7be8e6-2fde-4a76-ba43-37feb06233c2"
      },
      "source": [
        "print(dataa.shape,traindataa.shape,testdataa.shape)"
      ],
      "execution_count": null,
      "outputs": [
        {
          "output_type": "stream",
          "text": [
            "(504, 7) (454, 7) (50, 7)\n"
          ],
          "name": "stdout"
        }
      ]
    },
    {
      "cell_type": "code",
      "metadata": {
        "id": "CheGCqwiGllE"
      },
      "source": [
        "CCtrainfeed = traindataa['close'].to_numpy()\n",
        "CCtestfeed = testdataa['close'].to_numpy()\n",
        "\n",
        "OOtrainfeed = traindataa['open'].to_numpy()\n",
        "OOtestfeed = testdataa['open'].to_numpy()\n",
        "\n",
        "HHtrainfeed = traindataa['high'].to_numpy()\n",
        "HHtestfeed = testdataa['high'].to_numpy()\n",
        "\n",
        "LLtrainfeed = traindataa['low'].to_numpy()\n",
        "LLtestfeed = testdataa['low'].to_numpy()\n",
        "\n",
        "VVtrainfeed = traindataa['volume'].to_numpy()\n",
        "VVtestfeed = testdataa['volume'].to_numpy()"
      ],
      "execution_count": null,
      "outputs": []
    },
    {
      "cell_type": "markdown",
      "metadata": {
        "id": "XkZiVNQnGGUU"
      },
      "source": [
        "#**Instruments**"
      ]
    },
    {
      "cell_type": "code",
      "metadata": {
        "id": "yrzz_tFVMWZA"
      },
      "source": [
        "USD = Instrument(\"USD\", 2, \"U.S. Dollar\")\n",
        "G = Instrument(f\"{topgainersymbol}\", 2, \"Gainer\")\n",
        "LL = Instrument(f\"{toplosersymbol}\", 2, \"Loser\")"
      ],
      "execution_count": null,
      "outputs": []
    },
    {
      "cell_type": "markdown",
      "metadata": {
        "id": "uyN_5FpfF-uI"
      },
      "source": [
        "#**Features functions**"
      ]
    },
    {
      "cell_type": "code",
      "metadata": {
        "id": "N1Ubyav2obCo"
      },
      "source": [
        "def rsi(price: Stream[float], period: float) -> Stream[float]:\n",
        "  r = price.diff()\n",
        "  upside = r.clamp_min(0).abs()\n",
        "  downside = r.clamp_max(0).abs()\n",
        "  rs = upside.ewm(alpha=1 / period).mean() / downside.ewm(alpha=1 / period).mean()\n",
        "  return 100*(1 - (1 + rs) ** -1)\n",
        "\n",
        "def macd(price: Stream[float], fast: float, slow: float, signal: float) -> Stream[float]:\n",
        "  fm = price.ewm(span=fast, adjust=False).mean()\n",
        "  sm = price.ewm(span=slow, adjust=False).mean()\n",
        "  md = fm - sm\n",
        "  signal = md - md.ewm(span=signal, adjust=False).mean()\n",
        "  return signal"
      ],
      "execution_count": null,
      "outputs": []
    },
    {
      "cell_type": "markdown",
      "metadata": {
        "id": "9O5WhGUukVyN"
      },
      "source": [
        "#**TensorTrade Classes**"
      ]
    },
    {
      "cell_type": "code",
      "metadata": {
        "id": "n5fn3EOYkhqg"
      },
      "source": [
        "class BSH(TensorTradeActionScheme):\n",
        "\n",
        "    registered_name = \"bsh\"\n",
        "\n",
        "    def __init__(self, cash: 'Wallet', asset: 'Wallet'):\n",
        "        super().__init__()\n",
        "        self.cash = cash\n",
        "        self.asset = asset\n",
        "\n",
        "        self.listeners = []\n",
        "        self.action = 0\n",
        "\n",
        "    @property\n",
        "    def action_space(self):\n",
        "        return Discrete(2)\n",
        "\n",
        "    def attach(self, listener):\n",
        "        self.listeners += [listener]\n",
        "        return self\n",
        "\n",
        "    def get_orders(self, action: int, portfolio: 'Portfolio'):\n",
        "        order = None\n",
        "\n",
        "        if abs(action - self.action) > 0:\n",
        "            src = self.cash if self.action == 0 else self.asset\n",
        "            tgt = self.asset if self.action == 0 else self.cash\n",
        "            order = proportion_order(portfolio, src, tgt, 1.0)\n",
        "            self.action = action\n",
        "\n",
        "        for listener in self.listeners:\n",
        "            listener.on_action(action)\n",
        "\n",
        "        return [order]\n",
        "\n",
        "    def reset(self):\n",
        "        super().reset()\n",
        "        self.action = 0"
      ],
      "execution_count": null,
      "outputs": []
    },
    {
      "cell_type": "code",
      "metadata": {
        "id": "FQfWzNXAMbp1"
      },
      "source": [
        "class PBR(TensorTradeRewardScheme):\n",
        "\n",
        "    registered_name = \"pbr\"\n",
        "\n",
        "    def __init__(self, price: 'Stream'):\n",
        "        super().__init__()\n",
        "        self.position = -1\n",
        "\n",
        "        r = Stream.sensor(price, lambda p: p.value, dtype=\"float\").diff()\n",
        "        position = Stream.sensor(self, lambda rs: rs.position, dtype=\"float\")\n",
        "\n",
        "        reward = (r * position).fillna(0).rename(\"reward\")\n",
        "\n",
        "        self.feed = DataFeed([reward])\n",
        "        self.feed.compile()\n",
        "\n",
        "    def on_action(self, action: int):\n",
        "        self.position = -1 if action == 0 else 1\n",
        "\n",
        "    def get_reward(self, portfolio: 'Portfolio'):\n",
        "        return self.feed.next()[\"reward\"]\n",
        "\n",
        "    def reset(self):\n",
        "        self.position = -1\n",
        "        self.feed.reset()"
      ],
      "execution_count": null,
      "outputs": []
    },
    {
      "cell_type": "markdown",
      "metadata": {
        "id": "POg5ldaDFT_E"
      },
      "source": [
        "#**TopGainer**"
      ]
    },
    {
      "cell_type": "code",
      "metadata": {
        "id": "PSOKIqCaku4S"
      },
      "source": [
        "class PositionChangeChart(Renderer):\n",
        "\n",
        "    def __init__(self, color: str = \"orange\"):\n",
        "        self.color = \"orange\"\n",
        "\n",
        "    def render(self, env, **kwargs):\n",
        "        history = pd.DataFrame(env.observer.renderer_history)\n",
        "\n",
        "        actions = list(history.action)\n",
        "        p = list(history.price)\n",
        "\n",
        "        buy = {}\n",
        "        sell = {}\n",
        "\n",
        "        for i in range(len(actions) - 1):\n",
        "            a1 = actions[i]\n",
        "            a2 = actions[i + 1]\n",
        "\n",
        "            if a1 != a2:\n",
        "                if a1 == 0 and a2 == 1:\n",
        "                    buy[i] = p[i]\n",
        "                else:\n",
        "                    sell[i] = p[i]\n",
        "\n",
        "        buy = pd.Series(buy)\n",
        "        sell = pd.Series(sell)\n",
        "\n",
        "        fig, axs = plt.subplots(1, 2, figsize=(15, 5))\n",
        "\n",
        "        fig.suptitle(\"Performance\")\n",
        "\n",
        "        axs[0].plot(np.arange(len(p)), p, label=\"price\", color=self.color)\n",
        "        axs[0].scatter(buy.index, buy.values, marker=\"^\", color=\"green\")\n",
        "        axs[0].scatter(sell.index, sell.values, marker=\"^\", color=\"red\")\n",
        "        axs[0].set_title(\"Trading Chart\")\n",
        "        axs[0].set_xlabel(\"Step\")\n",
        "        axs[0].set_ylabel(\"Price (USD/{})\".format(topgainersymbol))\n",
        "\n",
        "        performance = env.action_scheme.portfolio.performance\n",
        "        performance = pd.DataFrame(performance).transpose()\n",
        "\n",
        "        performance.net_worth.plot(ax=axs[1])\n",
        "        axs[1].set_title(\"Net Worth\")\n",
        "        axs[1].set_xlabel(\"Step\")\n",
        "        axs[1].set_ylabel(\"Amount (USD)\")\n",
        "\n",
        "        plt.show()"
      ],
      "execution_count": null,
      "outputs": []
    },
    {
      "cell_type": "code",
      "metadata": {
        "id": "jw560Jf92b41"
      },
      "source": [
        "def create_env(config):\n",
        "\n",
        "    #closeprice\n",
        "    p = Stream.source(Ctrainfeed, dtype=\"float\").rename(\"USD-{}\".format(topgainersymbol))\n",
        "    #open price\n",
        "    O = Stream.source(Otrainfeed, dtype=\"float\").rename(\"open\")\n",
        "    #volume\n",
        "    V = Stream.source(Vtrainfeed, dtype=\"float\").rename(\"volume\")\n",
        "    #high\n",
        "    H = Stream.source(Htrainfeed, dtype=\"float\").rename(\"high\")\n",
        "    #low\n",
        "    L = Stream.source(Ltrainfeed, dtype=\"float\").rename(\"low\")\n",
        "    \n",
        "    stockexchange = Exchange('Nasdaq', service=execute_order)(\n",
        "        p\n",
        "    )\n",
        "\n",
        "    cash = Wallet(stockexchange, 10000 * USD)\n",
        "    asset = Wallet(stockexchange, 0 * G)\n",
        "\n",
        "    portfolio = Portfolio(USD, [\n",
        "        cash,\n",
        "        asset\n",
        "    ])\n",
        "\n",
        "\n",
        "    feed = DataFeed([\n",
        "        p,\n",
        "        p.ewm(span=10).mean().rename(\"fast\"),\n",
        "        p.ewm(span=50).mean().rename(\"medium\"),\n",
        "        p.ewm(span=100).mean().rename(\"slow\"),\n",
        "        p.log().diff().fillna(0).rename(\"lr\"),\n",
        "        rsi(p, period=20).rename(\"rsi\"),\n",
        "        macd(p, fast=10, slow=50, signal=5).rename(\"macd\"),    \n",
        "        O,\n",
        "        H,\n",
        "        L,\n",
        "        V\n",
        "    ])\n",
        "\n",
        "    reward_scheme = PBR(price=p)\n",
        "\n",
        "    action_scheme = BSH(\n",
        "        cash=cash,\n",
        "        asset=asset\n",
        "    ).attach(reward_scheme)\n",
        "\n",
        "    renderer_feed = DataFeed([\n",
        "        Stream.source(Ctrainfeed, dtype=\"float\").rename(\"price\"),\n",
        "        Stream.sensor(action_scheme, lambda s: s.action, dtype=\"float\").rename(\"action\")\n",
        "    ])\n",
        "\n",
        "    environment = default.create(\n",
        "        feed=feed,\n",
        "        portfolio=portfolio,\n",
        "        action_scheme=action_scheme,\n",
        "        reward_scheme=reward_scheme,\n",
        "        renderer_feed=renderer_feed,\n",
        "        renderer=PositionChangeChart(),\n",
        "        window_size=config[\"window_size\"],\n",
        "        max_allowed_loss=0.6\n",
        "    )\n",
        "    return environment\n",
        "\n",
        "\n",
        "register_env(\"TradingEnv\", create_env)"
      ],
      "execution_count": null,
      "outputs": []
    },
    {
      "cell_type": "markdown",
      "metadata": {
        "id": "Gc-wfM_y2-SG"
      },
      "source": [
        "#**Train-Model**"
      ]
    },
    {
      "cell_type": "code",
      "metadata": {
        "id": "bGrPTjEP3I9S",
        "colab": {
          "base_uri": "https://localhost:8080/",
          "height": 1000
        },
        "outputId": "63886ee1-beb3-4b13-c0b7-fc7dfe40eb6b"
      },
      "source": [
        "analysis = tune.run(\n",
        "    \"PPO\",\n",
        "    stop={\n",
        "      \"episode_reward_mean\": 10\n",
        "    },\n",
        "    config={\n",
        "        \"env\": \"TradingEnv\",\n",
        "        \"env_config\": {\n",
        "            \"window_size\": 25\n",
        "        },\n",
        "        \"framework\": \"torch\",\n",
        "        \"ignore_worker_failures\": True,\n",
        "        \"num_workers\": os.cpu_count() - 1,\n",
        "        \"num_gpus\": 0,\n",
        "        \"clip_rewards\": True,\n",
        "        \"lr\": 8e-6,\n",
        "        \"gamma\": 0,\n",
        "        \"observation_filter\": \"MeanStdFilter\",\n",
        "        \"lambda\": 0.72,\n",
        "        \"vf_loss_coeff\": 0.5,\n",
        "        \"entropy_coeff\": 0.01\n",
        "    },\n",
        "    checkpoint_at_end=True\n",
        ")"
      ],
      "execution_count": null,
      "outputs": [
        {
          "output_type": "display_data",
          "data": {
            "text/html": [
              "== Status ==<br>Memory usage on this node: 1.4/12.7 GiB<br>Using FIFO scheduling algorithm.<br>Resources requested: 0/2 CPUs, 0/0 GPUs, 0.0/7.33 GiB heap, 0.0/3.66 GiB objects<br>Result logdir: /root/ray_results/PPO<br>Number of trials: 1/1 (1 PENDING)<br><table>\n",
              "<thead>\n",
              "<tr><th>Trial name                </th><th>status  </th><th>loc  </th></tr>\n",
              "</thead>\n",
              "<tbody>\n",
              "<tr><td>PPO_TradingEnv_a6577_00000</td><td>PENDING </td><td>     </td></tr>\n",
              "</tbody>\n",
              "</table><br><br>"
            ],
            "text/plain": [
              "<IPython.core.display.HTML object>"
            ]
          },
          "metadata": {
            "tags": []
          }
        },
        {
          "output_type": "stream",
          "text": [
            "\u001b[2m\u001b[33m(raylet)\u001b[0m /usr/local/lib/python3.7/dist-packages/ray/autoscaler/_private/cli_logger.py:61: FutureWarning: Not all Ray CLI dependencies were found. In Ray 1.4+, the Ray CLI, autoscaler, and dashboard will only be usable via `pip install 'ray[default]'`. Please update your install command.\n",
            "\u001b[2m\u001b[33m(raylet)\u001b[0m   \"update your install command.\", FutureWarning)\n",
            "\u001b[2m\u001b[36m(pid=1712)\u001b[0m WARNING:tensorflow:From /usr/local/lib/python3.7/dist-packages/tensorflow/python/compat/v2_compat.py:96: disable_resource_variables (from tensorflow.python.ops.variable_scope) is deprecated and will be removed in a future version.\n",
            "\u001b[2m\u001b[36m(pid=1712)\u001b[0m Instructions for updating:\n",
            "\u001b[2m\u001b[36m(pid=1712)\u001b[0m non-resource variables are not supported in the long term\n",
            "\u001b[2m\u001b[36m(pid=1712)\u001b[0m 2021-06-03 03:56:21,023\tWARNING compression.py:16 -- lz4 not available, disabling sample compression. This will significantly impact RLlib performance. To install lz4, run `pip install lz4`.\n",
            "\u001b[2m\u001b[36m(pid=1712)\u001b[0m WARNING:tensorflow:From /usr/local/lib/python3.7/dist-packages/tensorflow_probability/python/internal/variadic_reduce.py:115: calling function (from tensorflow.python.eager.def_function) with experimental_compile is deprecated and will be removed in a future version.\n",
            "\u001b[2m\u001b[36m(pid=1712)\u001b[0m Instructions for updating:\n",
            "\u001b[2m\u001b[36m(pid=1712)\u001b[0m experimental_compile is deprecated, use jit_compile instead\n",
            "\u001b[2m\u001b[36m(pid=1712)\u001b[0m 2021-06-03 03:56:21,993\tINFO trainer.py:696 -- Current log_level is WARN. For more information, set 'log_level': 'INFO' / 'DEBUG' or use the -v and -vv flags.\n",
            "\u001b[2m\u001b[33m(raylet)\u001b[0m /usr/local/lib/python3.7/dist-packages/ray/autoscaler/_private/cli_logger.py:61: FutureWarning: Not all Ray CLI dependencies were found. In Ray 1.4+, the Ray CLI, autoscaler, and dashboard will only be usable via `pip install 'ray[default]'`. Please update your install command.\n",
            "\u001b[2m\u001b[33m(raylet)\u001b[0m   \"update your install command.\", FutureWarning)\n",
            "\u001b[2m\u001b[36m(pid=1735)\u001b[0m WARNING:tensorflow:From /usr/local/lib/python3.7/dist-packages/tensorflow/python/compat/v2_compat.py:96: disable_resource_variables (from tensorflow.python.ops.variable_scope) is deprecated and will be removed in a future version.\n",
            "\u001b[2m\u001b[36m(pid=1735)\u001b[0m Instructions for updating:\n",
            "\u001b[2m\u001b[36m(pid=1735)\u001b[0m non-resource variables are not supported in the long term\n",
            "\u001b[2m\u001b[36m(pid=1735)\u001b[0m 2021-06-03 03:56:24,918\tWARNING compression.py:16 -- lz4 not available, disabling sample compression. This will significantly impact RLlib performance. To install lz4, run `pip install lz4`.\n",
            "\u001b[2m\u001b[36m(pid=1735)\u001b[0m WARNING:tensorflow:From /usr/local/lib/python3.7/dist-packages/tensorflow_probability/python/internal/variadic_reduce.py:115: calling function (from tensorflow.python.eager.def_function) with experimental_compile is deprecated and will be removed in a future version.\n",
            "\u001b[2m\u001b[36m(pid=1735)\u001b[0m Instructions for updating:\n",
            "\u001b[2m\u001b[36m(pid=1735)\u001b[0m experimental_compile is deprecated, use jit_compile instead\n",
            "\u001b[2m\u001b[36m(pid=1712)\u001b[0m 2021-06-03 03:56:26,302\tWARNING util.py:53 -- Install gputil for GPU system monitoring.\n",
            "\u001b[2m\u001b[36m(pid=1712)\u001b[0m 2021-06-03 03:56:34,037\tWARNING deprecation.py:34 -- DeprecationWarning: `SampleBatch.data[..]` has been deprecated. Use `SampleBatch[..]` instead. This will raise an error in the future!\n"
          ],
          "name": "stderr"
        },
        {
          "output_type": "stream",
          "text": [
            "Result for PPO_TradingEnv_a6577_00000:\n",
            "  agent_timesteps_total: 4000\n",
            "  custom_metrics: {}\n",
            "  date: 2021-06-03_03-56-41\n",
            "  done: false\n",
            "  episode_len_mean: 219.11764705882354\n",
            "  episode_media: {}\n",
            "  episode_reward_max: 9.070013523101812\n",
            "  episode_reward_mean: -1.3647051278282585\n",
            "  episode_reward_min: -8.270005226135261\n",
            "  episodes_this_iter: 17\n",
            "  episodes_total: 17\n",
            "  experiment_id: b5fd380be05f415e87ec9c7bf0f28198\n",
            "  hostname: b78a0b47223f\n",
            "  info:\n",
            "    learner:\n",
            "      default_policy:\n",
            "        learner_stats:\n",
            "          allreduce_latency: 0.0\n",
            "          cur_kl_coeff: 0.2\n",
            "          cur_lr: 8.0e-06\n",
            "          entropy: 0.6756782475858927\n",
            "          entropy_coeff: 0.01\n",
            "          kl: 0.018016928515862674\n",
            "          policy_loss: -0.05989804497221485\n",
            "          total_loss: 0.4254796290770173\n",
            "          vf_explained_var: 0.0035233497619628906\n",
            "          vf_loss: 0.9770621415227652\n",
            "    num_agent_steps_sampled: 4000\n",
            "    num_steps_sampled: 4000\n",
            "    num_steps_trained: 4000\n",
            "  iterations_since_restore: 1\n",
            "  node_ip: 172.28.0.2\n",
            "  num_healthy_workers: 1\n",
            "  off_policy_estimator: {}\n",
            "  perf:\n",
            "    cpu_util_percent: 54.16818181818182\n",
            "    ram_util_percent: 15.677272727272724\n",
            "  pid: 1712\n",
            "  policy_reward_max: {}\n",
            "  policy_reward_mean: {}\n",
            "  policy_reward_min: {}\n",
            "  sampler_perf:\n",
            "    mean_action_processing_ms: 0.039920244357550747\n",
            "    mean_env_render_ms: 0.0\n",
            "    mean_env_wait_ms: 0.7675324520806139\n",
            "    mean_inference_ms: 0.9654777939693238\n",
            "    mean_raw_obs_processing_ms: 0.1274892849434736\n",
            "  time_since_restore: 15.1845862865448\n",
            "  time_this_iter_s: 15.1845862865448\n",
            "  time_total_s: 15.1845862865448\n",
            "  timers:\n",
            "    learn_throughput: 536.585\n",
            "    learn_time_ms: 7454.551\n",
            "    sample_throughput: 518.112\n",
            "    sample_time_ms: 7720.344\n",
            "    update_time_ms: 1.557\n",
            "  timestamp: 1622692601\n",
            "  timesteps_since_restore: 0\n",
            "  timesteps_total: 4000\n",
            "  training_iteration: 1\n",
            "  trial_id: a6577_00000\n",
            "  \n"
          ],
          "name": "stdout"
        },
        {
          "output_type": "display_data",
          "data": {
            "text/html": [
              "== Status ==<br>Memory usage on this node: 2.0/12.7 GiB<br>Using FIFO scheduling algorithm.<br>Resources requested: 2.0/2 CPUs, 0/0 GPUs, 0.0/7.33 GiB heap, 0.0/3.66 GiB objects<br>Result logdir: /root/ray_results/PPO<br>Number of trials: 1/1 (1 RUNNING)<br><table>\n",
              "<thead>\n",
              "<tr><th>Trial name                </th><th>status  </th><th>loc            </th><th style=\"text-align: right;\">  iter</th><th style=\"text-align: right;\">  total time (s)</th><th style=\"text-align: right;\">  ts</th><th style=\"text-align: right;\">  reward</th><th style=\"text-align: right;\">  episode_reward_max</th><th style=\"text-align: right;\">  episode_reward_min</th><th style=\"text-align: right;\">  episode_len_mean</th></tr>\n",
              "</thead>\n",
              "<tbody>\n",
              "<tr><td>PPO_TradingEnv_a6577_00000</td><td>RUNNING </td><td>172.28.0.2:1712</td><td style=\"text-align: right;\">     1</td><td style=\"text-align: right;\">         15.1846</td><td style=\"text-align: right;\">4000</td><td style=\"text-align: right;\">-1.36471</td><td style=\"text-align: right;\">             9.07001</td><td style=\"text-align: right;\">            -8.27001</td><td style=\"text-align: right;\">           219.118</td></tr>\n",
              "</tbody>\n",
              "</table><br><br>"
            ],
            "text/plain": [
              "<IPython.core.display.HTML object>"
            ]
          },
          "metadata": {
            "tags": []
          }
        },
        {
          "output_type": "stream",
          "text": [
            "Result for PPO_TradingEnv_a6577_00000:\n",
            "  agent_timesteps_total: 8000\n",
            "  custom_metrics: {}\n",
            "  date: 2021-06-03_03-56-56\n",
            "  done: false\n",
            "  episode_len_mean: 244.59375\n",
            "  episode_media: {}\n",
            "  episode_reward_max: 54.17000532150269\n",
            "  episode_reward_mean: 2.6837506517767924\n",
            "  episode_reward_min: -8.270005226135261\n",
            "  episodes_this_iter: 15\n",
            "  episodes_total: 32\n",
            "  experiment_id: b5fd380be05f415e87ec9c7bf0f28198\n",
            "  hostname: b78a0b47223f\n",
            "  info:\n",
            "    learner:\n",
            "      default_policy:\n",
            "        learner_stats:\n",
            "          allreduce_latency: 0.0\n",
            "          cur_kl_coeff: 0.2\n",
            "          cur_lr: 8.0e-06\n",
            "          entropy: 0.6083547249436378\n",
            "          entropy_coeff: 0.01\n",
            "          kl: 0.034071128466166556\n",
            "          policy_loss: -0.07969042206241284\n",
            "          total_loss: 0.40756660932675004\n",
            "          vf_explained_var: 0.0072503723204135895\n",
            "          vf_loss: 0.9730526991188526\n",
            "    num_agent_steps_sampled: 8000\n",
            "    num_steps_sampled: 8000\n",
            "    num_steps_trained: 8000\n",
            "  iterations_since_restore: 2\n",
            "  node_ip: 172.28.0.2\n",
            "  num_healthy_workers: 1\n",
            "  off_policy_estimator: {}\n",
            "  perf:\n",
            "    cpu_util_percent: 55.03333333333334\n",
            "    ram_util_percent: 15.699999999999998\n",
            "  pid: 1712\n",
            "  policy_reward_max: {}\n",
            "  policy_reward_mean: {}\n",
            "  policy_reward_min: {}\n",
            "  sampler_perf:\n",
            "    mean_action_processing_ms: 0.039709360208364644\n",
            "    mean_env_render_ms: 0.0\n",
            "    mean_env_wait_ms: 0.7537215321446161\n",
            "    mean_inference_ms: 0.958772837242832\n",
            "    mean_raw_obs_processing_ms: 0.1274313415074389\n",
            "  time_since_restore: 29.96979856491089\n",
            "  time_this_iter_s: 14.785212278366089\n",
            "  time_total_s: 29.96979856491089\n",
            "  timers:\n",
            "    learn_throughput: 537.661\n",
            "    learn_time_ms: 7439.626\n",
            "    sample_throughput: 530.842\n",
            "    sample_time_ms: 7535.195\n",
            "    update_time_ms: 1.671\n",
            "  timestamp: 1622692616\n",
            "  timesteps_since_restore: 0\n",
            "  timesteps_total: 8000\n",
            "  training_iteration: 2\n",
            "  trial_id: a6577_00000\n",
            "  \n"
          ],
          "name": "stdout"
        },
        {
          "output_type": "display_data",
          "data": {
            "text/html": [
              "== Status ==<br>Memory usage on this node: 2.0/12.7 GiB<br>Using FIFO scheduling algorithm.<br>Resources requested: 2.0/2 CPUs, 0/0 GPUs, 0.0/7.33 GiB heap, 0.0/3.66 GiB objects<br>Result logdir: /root/ray_results/PPO<br>Number of trials: 1/1 (1 RUNNING)<br><table>\n",
              "<thead>\n",
              "<tr><th>Trial name                </th><th>status  </th><th>loc            </th><th style=\"text-align: right;\">  iter</th><th style=\"text-align: right;\">  total time (s)</th><th style=\"text-align: right;\">  ts</th><th style=\"text-align: right;\">  reward</th><th style=\"text-align: right;\">  episode_reward_max</th><th style=\"text-align: right;\">  episode_reward_min</th><th style=\"text-align: right;\">  episode_len_mean</th></tr>\n",
              "</thead>\n",
              "<tbody>\n",
              "<tr><td>PPO_TradingEnv_a6577_00000</td><td>RUNNING </td><td>172.28.0.2:1712</td><td style=\"text-align: right;\">     2</td><td style=\"text-align: right;\">         29.9698</td><td style=\"text-align: right;\">8000</td><td style=\"text-align: right;\"> 2.68375</td><td style=\"text-align: right;\">               54.17</td><td style=\"text-align: right;\">            -8.27001</td><td style=\"text-align: right;\">           244.594</td></tr>\n",
              "</tbody>\n",
              "</table><br><br>"
            ],
            "text/plain": [
              "<IPython.core.display.HTML object>"
            ]
          },
          "metadata": {
            "tags": []
          }
        },
        {
          "output_type": "stream",
          "text": [
            "Result for PPO_TradingEnv_a6577_00000:\n",
            "  agent_timesteps_total: 12000\n",
            "  custom_metrics: {}\n",
            "  date: 2021-06-03_03-57-11\n",
            "  done: false\n",
            "  episode_len_mean: 283.609756097561\n",
            "  episode_media: {}\n",
            "  episode_reward_max: 54.17000532150269\n",
            "  episode_reward_mean: 6.242195815574834\n",
            "  episode_reward_min: -9.839997768402096\n",
            "  episodes_this_iter: 9\n",
            "  episodes_total: 41\n",
            "  experiment_id: b5fd380be05f415e87ec9c7bf0f28198\n",
            "  hostname: b78a0b47223f\n",
            "  info:\n",
            "    learner:\n",
            "      default_policy:\n",
            "        learner_stats:\n",
            "          allreduce_latency: 0.0\n",
            "          cur_kl_coeff: 0.30000000000000004\n",
            "          cur_lr: 8.0e-06\n",
            "          entropy: 0.5178290503099561\n",
            "          entropy_coeff: 0.01\n",
            "          kl: 0.023616845137439668\n",
            "          policy_loss: -0.07662854000227526\n",
            "          total_loss: 0.4018978360109031\n",
            "          vf_explained_var: 0.02050645276904106\n",
            "          vf_loss: 0.9532392229884863\n",
            "    num_agent_steps_sampled: 12000\n",
            "    num_steps_sampled: 12000\n",
            "    num_steps_trained: 12000\n",
            "  iterations_since_restore: 3\n",
            "  node_ip: 172.28.0.2\n",
            "  num_healthy_workers: 1\n",
            "  off_policy_estimator: {}\n",
            "  perf:\n",
            "    cpu_util_percent: 54.49545454545455\n",
            "    ram_util_percent: 15.759090909090911\n",
            "  pid: 1712\n",
            "  policy_reward_max: {}\n",
            "  policy_reward_mean: {}\n",
            "  policy_reward_min: {}\n",
            "  sampler_perf:\n",
            "    mean_action_processing_ms: 0.03966022059307561\n",
            "    mean_env_render_ms: 0.0\n",
            "    mean_env_wait_ms: 0.7513215555165415\n",
            "    mean_inference_ms: 0.956538868289258\n",
            "    mean_raw_obs_processing_ms: 0.12718866799763706\n",
            "  time_since_restore: 44.910388708114624\n",
            "  time_this_iter_s: 14.940590143203735\n",
            "  time_total_s: 44.910388708114624\n",
            "  timers:\n",
            "    learn_throughput: 538.706\n",
            "    learn_time_ms: 7425.198\n",
            "    sample_throughput: 530.871\n",
            "    sample_time_ms: 7534.78\n",
            "    update_time_ms: 1.665\n",
            "  timestamp: 1622692631\n",
            "  timesteps_since_restore: 0\n",
            "  timesteps_total: 12000\n",
            "  training_iteration: 3\n",
            "  trial_id: a6577_00000\n",
            "  \n"
          ],
          "name": "stdout"
        },
        {
          "output_type": "display_data",
          "data": {
            "text/html": [
              "== Status ==<br>Memory usage on this node: 2.0/12.7 GiB<br>Using FIFO scheduling algorithm.<br>Resources requested: 2.0/2 CPUs, 0/0 GPUs, 0.0/7.33 GiB heap, 0.0/3.66 GiB objects<br>Result logdir: /root/ray_results/PPO<br>Number of trials: 1/1 (1 RUNNING)<br><table>\n",
              "<thead>\n",
              "<tr><th>Trial name                </th><th>status  </th><th>loc            </th><th style=\"text-align: right;\">  iter</th><th style=\"text-align: right;\">  total time (s)</th><th style=\"text-align: right;\">   ts</th><th style=\"text-align: right;\">  reward</th><th style=\"text-align: right;\">  episode_reward_max</th><th style=\"text-align: right;\">  episode_reward_min</th><th style=\"text-align: right;\">  episode_len_mean</th></tr>\n",
              "</thead>\n",
              "<tbody>\n",
              "<tr><td>PPO_TradingEnv_a6577_00000</td><td>RUNNING </td><td>172.28.0.2:1712</td><td style=\"text-align: right;\">     3</td><td style=\"text-align: right;\">         44.9104</td><td style=\"text-align: right;\">12000</td><td style=\"text-align: right;\">  6.2422</td><td style=\"text-align: right;\">               54.17</td><td style=\"text-align: right;\">               -9.84</td><td style=\"text-align: right;\">            283.61</td></tr>\n",
              "</tbody>\n",
              "</table><br><br>"
            ],
            "text/plain": [
              "<IPython.core.display.HTML object>"
            ]
          },
          "metadata": {
            "tags": []
          }
        },
        {
          "output_type": "stream",
          "text": [
            "Result for PPO_TradingEnv_a6577_00000:\n",
            "  agent_timesteps_total: 16000\n",
            "  custom_metrics: {}\n",
            "  date: 2021-06-03_03-57-26\n",
            "  done: true\n",
            "  episode_len_mean: 312.03921568627453\n",
            "  episode_media: {}\n",
            "  episode_reward_max: 60.969998359680176\n",
            "  episode_reward_mean: 11.023529782014739\n",
            "  episode_reward_min: -9.839997768402096\n",
            "  episodes_this_iter: 10\n",
            "  episodes_total: 51\n",
            "  experiment_id: b5fd380be05f415e87ec9c7bf0f28198\n",
            "  hostname: b78a0b47223f\n",
            "  info:\n",
            "    learner:\n",
            "      default_policy:\n",
            "        learner_stats:\n",
            "          allreduce_latency: 0.0\n",
            "          cur_kl_coeff: 0.45000000000000007\n",
            "          cur_lr: 8.0e-06\n",
            "          entropy: 0.44765788316726685\n",
            "          entropy_coeff: 0.01\n",
            "          kl: 0.017543388297781348\n",
            "          policy_loss: -0.07691253241500817\n",
            "          total_loss: 0.37608433747664094\n",
            "          vf_explained_var: 0.05123722553253174\n",
            "          vf_loss: 0.8991578631103039\n",
            "    num_agent_steps_sampled: 16000\n",
            "    num_steps_sampled: 16000\n",
            "    num_steps_trained: 16000\n",
            "  iterations_since_restore: 4\n",
            "  node_ip: 172.28.0.2\n",
            "  num_healthy_workers: 1\n",
            "  off_policy_estimator: {}\n",
            "  perf:\n",
            "    cpu_util_percent: 54.81904761904762\n",
            "    ram_util_percent: 15.800000000000002\n",
            "  pid: 1712\n",
            "  policy_reward_max: {}\n",
            "  policy_reward_mean: {}\n",
            "  policy_reward_min: {}\n",
            "  sampler_perf:\n",
            "    mean_action_processing_ms: 0.03960034008365357\n",
            "    mean_env_render_ms: 0.0\n",
            "    mean_env_wait_ms: 0.7460565114720936\n",
            "    mean_inference_ms: 0.9559360375987099\n",
            "    mean_raw_obs_processing_ms: 0.12690089637756138\n",
            "  time_since_restore: 59.69762992858887\n",
            "  time_this_iter_s: 14.787241220474243\n",
            "  time_total_s: 59.69762992858887\n",
            "  timers:\n",
            "    learn_throughput: 537.768\n",
            "    learn_time_ms: 7438.158\n",
            "    sample_throughput: 535.042\n",
            "    sample_time_ms: 7476.051\n",
            "    update_time_ms: 1.737\n",
            "  timestamp: 1622692646\n",
            "  timesteps_since_restore: 0\n",
            "  timesteps_total: 16000\n",
            "  training_iteration: 4\n",
            "  trial_id: a6577_00000\n",
            "  \n"
          ],
          "name": "stdout"
        },
        {
          "output_type": "display_data",
          "data": {
            "text/html": [
              "== Status ==<br>Memory usage on this node: 2.0/12.7 GiB<br>Using FIFO scheduling algorithm.<br>Resources requested: 2.0/2 CPUs, 0/0 GPUs, 0.0/7.33 GiB heap, 0.0/3.66 GiB objects<br>Result logdir: /root/ray_results/PPO<br>Number of trials: 1/1 (1 RUNNING)<br><table>\n",
              "<thead>\n",
              "<tr><th>Trial name                </th><th>status  </th><th>loc            </th><th style=\"text-align: right;\">  iter</th><th style=\"text-align: right;\">  total time (s)</th><th style=\"text-align: right;\">   ts</th><th style=\"text-align: right;\">  reward</th><th style=\"text-align: right;\">  episode_reward_max</th><th style=\"text-align: right;\">  episode_reward_min</th><th style=\"text-align: right;\">  episode_len_mean</th></tr>\n",
              "</thead>\n",
              "<tbody>\n",
              "<tr><td>PPO_TradingEnv_a6577_00000</td><td>RUNNING </td><td>172.28.0.2:1712</td><td style=\"text-align: right;\">     4</td><td style=\"text-align: right;\">         59.6976</td><td style=\"text-align: right;\">16000</td><td style=\"text-align: right;\"> 11.0235</td><td style=\"text-align: right;\">               60.97</td><td style=\"text-align: right;\">               -9.84</td><td style=\"text-align: right;\">           312.039</td></tr>\n",
              "</tbody>\n",
              "</table><br><br>"
            ],
            "text/plain": [
              "<IPython.core.display.HTML object>"
            ]
          },
          "metadata": {
            "tags": []
          }
        },
        {
          "output_type": "display_data",
          "data": {
            "text/html": [
              "== Status ==<br>Memory usage on this node: 2.0/12.7 GiB<br>Using FIFO scheduling algorithm.<br>Resources requested: 0/2 CPUs, 0/0 GPUs, 0.0/7.33 GiB heap, 0.0/3.66 GiB objects<br>Result logdir: /root/ray_results/PPO<br>Number of trials: 1/1 (1 TERMINATED)<br><table>\n",
              "<thead>\n",
              "<tr><th>Trial name                </th><th>status    </th><th>loc  </th><th style=\"text-align: right;\">  iter</th><th style=\"text-align: right;\">  total time (s)</th><th style=\"text-align: right;\">   ts</th><th style=\"text-align: right;\">  reward</th><th style=\"text-align: right;\">  episode_reward_max</th><th style=\"text-align: right;\">  episode_reward_min</th><th style=\"text-align: right;\">  episode_len_mean</th></tr>\n",
              "</thead>\n",
              "<tbody>\n",
              "<tr><td>PPO_TradingEnv_a6577_00000</td><td>TERMINATED</td><td>     </td><td style=\"text-align: right;\">     4</td><td style=\"text-align: right;\">         59.6976</td><td style=\"text-align: right;\">16000</td><td style=\"text-align: right;\"> 11.0235</td><td style=\"text-align: right;\">               60.97</td><td style=\"text-align: right;\">               -9.84</td><td style=\"text-align: right;\">           312.039</td></tr>\n",
              "</tbody>\n",
              "</table><br><br>"
            ],
            "text/plain": [
              "<IPython.core.display.HTML object>"
            ]
          },
          "metadata": {
            "tags": []
          }
        },
        {
          "output_type": "stream",
          "text": [
            "\u001b[2m\u001b[36m(pid=1712)\u001b[0m 2021-06-03 03:57:26,604\tERROR worker.py:382 -- SystemExit was raised from the worker\n",
            "\u001b[2m\u001b[36m(pid=1712)\u001b[0m Traceback (most recent call last):\n",
            "\u001b[2m\u001b[36m(pid=1712)\u001b[0m   File \"python/ray/_raylet.pyx\", line 495, in ray._raylet.execute_task\n",
            "\u001b[2m\u001b[36m(pid=1712)\u001b[0m   File \"python/ray/_raylet.pyx\", line 505, in ray._raylet.execute_task\n",
            "\u001b[2m\u001b[36m(pid=1712)\u001b[0m   File \"python/ray/_raylet.pyx\", line 449, in ray._raylet.execute_task.function_executor\n",
            "\u001b[2m\u001b[36m(pid=1712)\u001b[0m   File \"/usr/local/lib/python3.7/dist-packages/ray/_private/function_manager.py\", line 556, in actor_method_executor\n",
            "\u001b[2m\u001b[36m(pid=1712)\u001b[0m     return method(__ray_actor, *args, **kwargs)\n",
            "\u001b[2m\u001b[36m(pid=1712)\u001b[0m   File \"/usr/local/lib/python3.7/dist-packages/ray/actor.py\", line 1001, in __ray_terminate__\n",
            "\u001b[2m\u001b[36m(pid=1712)\u001b[0m     ray.actor.exit_actor()\n",
            "\u001b[2m\u001b[36m(pid=1712)\u001b[0m   File \"/usr/local/lib/python3.7/dist-packages/ray/actor.py\", line 1077, in exit_actor\n",
            "\u001b[2m\u001b[36m(pid=1712)\u001b[0m     raise exit\n",
            "\u001b[2m\u001b[36m(pid=1712)\u001b[0m SystemExit: 0\n",
            "\u001b[2m\u001b[36m(pid=1712)\u001b[0m \n",
            "\u001b[2m\u001b[36m(pid=1712)\u001b[0m During handling of the above exception, another exception occurred:\n",
            "\u001b[2m\u001b[36m(pid=1712)\u001b[0m \n",
            "\u001b[2m\u001b[36m(pid=1712)\u001b[0m Traceback (most recent call last):\n",
            "\u001b[2m\u001b[36m(pid=1712)\u001b[0m   File \"python/ray/_raylet.pyx\", line 599, in ray._raylet.task_execution_handler\n",
            "\u001b[2m\u001b[36m(pid=1712)\u001b[0m   File \"python/ray/_raylet.pyx\", line 451, in ray._raylet.execute_task\n",
            "\u001b[2m\u001b[36m(pid=1712)\u001b[0m   File \"python/ray/_raylet.pyx\", line 488, in ray._raylet.execute_task\n",
            "\u001b[2m\u001b[36m(pid=1712)\u001b[0m   File \"python/ray/includes/libcoreworker.pxi\", line 33, in ray._raylet.ProfileEvent.__exit__\n",
            "\u001b[2m\u001b[36m(pid=1712)\u001b[0m   File \"/usr/lib/python3.7/traceback.py\", line 167, in format_exc\n",
            "\u001b[2m\u001b[36m(pid=1712)\u001b[0m     return \"\".join(format_exception(*sys.exc_info(), limit=limit, chain=chain))\n",
            "\u001b[2m\u001b[36m(pid=1712)\u001b[0m   File \"/usr/lib/python3.7/traceback.py\", line 121, in format_exception\n",
            "\u001b[2m\u001b[36m(pid=1712)\u001b[0m     type(value), value, tb, limit=limit).format(chain=chain))\n",
            "\u001b[2m\u001b[36m(pid=1712)\u001b[0m   File \"/usr/lib/python3.7/traceback.py\", line 508, in __init__\n",
            "\u001b[2m\u001b[36m(pid=1712)\u001b[0m     capture_locals=capture_locals)\n",
            "\u001b[2m\u001b[36m(pid=1712)\u001b[0m   File \"/usr/lib/python3.7/traceback.py\", line 363, in extract\n",
            "\u001b[2m\u001b[36m(pid=1712)\u001b[0m     f.line\n",
            "\u001b[2m\u001b[36m(pid=1712)\u001b[0m   File \"/usr/lib/python3.7/traceback.py\", line 285, in line\n",
            "\u001b[2m\u001b[36m(pid=1712)\u001b[0m     self._line = linecache.getline(self.filename, self.lineno).strip()\n",
            "\u001b[2m\u001b[36m(pid=1712)\u001b[0m   File \"/usr/lib/python3.7/linecache.py\", line 16, in getline\n",
            "\u001b[2m\u001b[36m(pid=1712)\u001b[0m     lines = getlines(filename, module_globals)\n",
            "\u001b[2m\u001b[36m(pid=1712)\u001b[0m   File \"/usr/lib/python3.7/linecache.py\", line 47, in getlines\n",
            "\u001b[2m\u001b[36m(pid=1712)\u001b[0m     return updatecache(filename, module_globals)\n",
            "\u001b[2m\u001b[36m(pid=1712)\u001b[0m   File \"/usr/lib/python3.7/linecache.py\", line 137, in updatecache\n",
            "\u001b[2m\u001b[36m(pid=1712)\u001b[0m     lines = fp.readlines()\n",
            "\u001b[2m\u001b[36m(pid=1712)\u001b[0m   File \"/usr/lib/python3.7/codecs.py\", line 319, in decode\n",
            "\u001b[2m\u001b[36m(pid=1712)\u001b[0m     def decode(self, input, final=False):\n",
            "\u001b[2m\u001b[36m(pid=1712)\u001b[0m   File \"/usr/local/lib/python3.7/dist-packages/ray/worker.py\", line 379, in sigterm_handler\n",
            "\u001b[2m\u001b[36m(pid=1712)\u001b[0m     sys.exit(1)\n",
            "\u001b[2m\u001b[36m(pid=1712)\u001b[0m SystemExit: 1\n",
            "2021-06-03 03:57:26,699\tINFO tune.py:549 -- Total run time: 68.83 seconds (68.27 seconds for the tuning loop).\n"
          ],
          "name": "stderr"
        }
      ]
    },
    {
      "cell_type": "code",
      "metadata": {
        "id": "vZbL2w4Z3QQZ",
        "colab": {
          "base_uri": "https://localhost:8080/"
        },
        "outputId": "110362b5-f229-45b5-f7bb-e2169f5fcd7e"
      },
      "source": [
        "checkpoints = analysis.get_trial_checkpoints_paths(\n",
        "    trial=analysis.get_best_trial(metric=\"episode_reward_mean\", mode=\"max\"),\n",
        "    metric=\"episode_reward_mean\"\n",
        ")\n",
        "checkpoint_path = checkpoints[0][0]\n",
        "\n",
        "# Restore agent\n",
        "agent = ppo.PPOTrainer(\n",
        "    env=\"TradingEnv\",\n",
        "    config={\n",
        "        \"env_config\": {\n",
        "            \"window_size\": 25\n",
        "        },\n",
        "        \"framework\": \"torch\",\n",
        "        \"ignore_worker_failures\": True,\n",
        "        \"num_workers\": 1,\n",
        "        \"num_gpus\": 0,\n",
        "        \"clip_rewards\": True,\n",
        "        \"lr\": 8e-6,\n",
        "        \"gamma\": 0,\n",
        "        \"observation_filter\": \"MeanStdFilter\",\n",
        "        \"lambda\": 0.72,\n",
        "        \"vf_loss_coeff\": 0.5,\n",
        "        \"entropy_coeff\": 0.01\n",
        "    }\n",
        ")\n",
        "agent.restore(checkpoint_path)"
      ],
      "execution_count": null,
      "outputs": [
        {
          "output_type": "stream",
          "text": [
            "2021-06-03 03:57:40,199\tINFO trainer.py:696 -- Current log_level is WARN. For more information, set 'log_level': 'INFO' / 'DEBUG' or use the -v and -vv flags.\n",
            "\u001b[2m\u001b[33m(raylet)\u001b[0m /usr/local/lib/python3.7/dist-packages/ray/autoscaler/_private/cli_logger.py:61: FutureWarning: Not all Ray CLI dependencies were found. In Ray 1.4+, the Ray CLI, autoscaler, and dashboard will only be usable via `pip install 'ray[default]'`. Please update your install command.\n",
            "\u001b[2m\u001b[33m(raylet)\u001b[0m   \"update your install command.\", FutureWarning)\n",
            "\u001b[2m\u001b[36m(pid=1779)\u001b[0m WARNING:tensorflow:From /usr/local/lib/python3.7/dist-packages/tensorflow/python/compat/v2_compat.py:96: disable_resource_variables (from tensorflow.python.ops.variable_scope) is deprecated and will be removed in a future version.\n",
            "\u001b[2m\u001b[36m(pid=1779)\u001b[0m Instructions for updating:\n",
            "\u001b[2m\u001b[36m(pid=1779)\u001b[0m non-resource variables are not supported in the long term\n",
            "\u001b[2m\u001b[36m(pid=1779)\u001b[0m 2021-06-03 03:57:43,079\tWARNING compression.py:16 -- lz4 not available, disabling sample compression. This will significantly impact RLlib performance. To install lz4, run `pip install lz4`.\n",
            "\u001b[2m\u001b[36m(pid=1779)\u001b[0m WARNING:tensorflow:From /usr/local/lib/python3.7/dist-packages/tensorflow_probability/python/internal/variadic_reduce.py:115: calling function (from tensorflow.python.eager.def_function) with experimental_compile is deprecated and will be removed in a future version.\n",
            "\u001b[2m\u001b[36m(pid=1779)\u001b[0m Instructions for updating:\n",
            "\u001b[2m\u001b[36m(pid=1779)\u001b[0m experimental_compile is deprecated, use jit_compile instead\n",
            "2021-06-03 03:57:44,138\tWARNING util.py:53 -- Install gputil for GPU system monitoring.\n",
            "2021-06-03 03:57:44,156\tINFO trainable.py:378 -- Restored on 172.28.0.2 from checkpoint: /root/ray_results/PPO/PPO_TradingEnv_a6577_00000_0_2021-06-03_03-56-17/checkpoint_000004/checkpoint-4\n",
            "2021-06-03 03:57:44,160\tINFO trainable.py:385 -- Current state after restoring: {'_iteration': 4, '_timesteps_total': None, '_time_total': 59.69762992858887, '_episodes_total': 51}\n"
          ],
          "name": "stderr"
        }
      ]
    },
    {
      "cell_type": "code",
      "metadata": {
        "id": "kDUaANX6-BIR",
        "colab": {
          "base_uri": "https://localhost:8080/",
          "height": 373
        },
        "outputId": "83d59105-ec42-4c91-95e2-c006899df2ff"
      },
      "source": [
        "env = create_env({\n",
        "    \"window_size\": 25\n",
        "})\n",
        "\n",
        "episode_reward = 0\n",
        "done = False\n",
        "obs = env.reset()\n",
        "\n",
        "while not done:\n",
        "    action = agent.compute_action(obs)\n",
        "    obs, reward, done, info = env.step(action)\n",
        "    episode_reward += reward\n",
        "\n",
        "env.render()"
      ],
      "execution_count": null,
      "outputs": [
        {
          "output_type": "display_data",
          "data": {
            "image/png": "[encoded data removed]",
            "text/plain": [
              "<Figure size 1080x360 with 2 Axes>"
            ]
          },
          "metadata": {
            "tags": []
          }
        }
      ]
    },
    {
      "cell_type": "markdown",
      "metadata": {
        "id": "_nwR_o875Ybp"
      },
      "source": [
        "#**Evaluate**"
      ]
    },
    {
      "cell_type": "code",
      "metadata": {
        "id": "dQ9BpdeW44eX"
      },
      "source": [
        "def create_eval_env(config: dict):\n",
        "    \n",
        "    #close price\n",
        "    p = Stream.source(Ctestfeed, dtype=\"float\").rename(\"USD-{}\".format(topgainersymbol))\n",
        "    #open price\n",
        "    O = Stream.source(Otestfeed, dtype=\"float\").rename(\"open\")\n",
        "    #volume\n",
        "    V = Stream.source(Vtestfeed, dtype=\"float\").rename(\"volume\")\n",
        "    #high\n",
        "    H = Stream.source(Htestfeed, dtype=\"float\").rename(\"high\")\n",
        "    #low\n",
        "    L = Stream.source(Ltestfeed, dtype=\"float\").rename(\"low\")\n",
        "    stockexchange = Exchange(\"Nasdaq\", service=execute_order)(\n",
        "        p\n",
        "    )\n",
        "\n",
        "    cash = Wallet(stockexchange, 10000 * USD)\n",
        "    asset = Wallet(stockexchange, 0 * G)\n",
        "\n",
        "    portfolio = Portfolio(USD, [\n",
        "        cash,\n",
        "        asset\n",
        "    ])\n",
        "\n",
        "    feed = DataFeed([\n",
        "        p,\n",
        "        p.ewm(span=10).mean().rename(\"fast\"),\n",
        "        p.ewm(span=50).mean().rename(\"medium\"),\n",
        "        p.ewm(span=100).mean().rename(\"slow\"),\n",
        "        p.log().diff().fillna(0).rename(\"lr\"),\n",
        "        rsi(p, period=20).rename(\"rsi\"),\n",
        "        macd(p, fast=10, slow=50, signal=5).rename(\"macd\"),\n",
        "        O,\n",
        "        H,\n",
        "        L,\n",
        "        V\n",
        "    ])\n",
        "\n",
        "    reward_scheme = PBR(price=p)\n",
        "\n",
        "    action_scheme = BSH(\n",
        "        cash=cash,\n",
        "        asset=asset\n",
        "    ).attach(reward_scheme)\n",
        "\n",
        "    renderer_feed = DataFeed([\n",
        "        Stream.source(Ctestfeed, dtype=\"float\").rename(\"price\"),\n",
        "        Stream.sensor(action_scheme, lambda s: s.action, dtype=\"float\").rename(\"action\")\n",
        "    ])\n",
        "\n",
        "    environment = default.create(\n",
        "        feed=feed,\n",
        "        portfolio=portfolio,\n",
        "        action_scheme=action_scheme,\n",
        "        reward_scheme=reward_scheme,\n",
        "        renderer_feed=renderer_feed,\n",
        "        renderer=PositionChangeChart(),\n",
        "        window_size=config[\"window_size\"],\n",
        "        max_allowed_loss=0.6\n",
        "    )\n",
        "    return environment"
      ],
      "execution_count": null,
      "outputs": []
    },
    {
      "cell_type": "code",
      "metadata": {
        "id": "-5oVmvYe4uTN",
        "colab": {
          "base_uri": "https://localhost:8080/",
          "height": 373
        },
        "outputId": "5b73fd0d-c0af-4c16-8da8-2eae1d1236e5"
      },
      "source": [
        "env = create_eval_env({\n",
        "    \"window_size\": 25\n",
        "})\n",
        "\n",
        "episode_reward = 0\n",
        "done = False\n",
        "obs = env.reset()\n",
        "\n",
        "while not done:\n",
        "    action = agent.compute_action(obs)\n",
        "    obs, reward, done, info = env.step(action)\n",
        "    episode_reward += reward\n",
        "\n",
        "env.render()"
      ],
      "execution_count": null,
      "outputs": [
        {
          "output_type": "display_data",
          "data": {
            "image/png": "[encoded data removed]",
            "text/plain": [
              "<Figure size 1080x360 with 2 Axes>"
            ]
          },
          "metadata": {
            "tags": []
          }
        }
      ]
    },
    {
      "cell_type": "markdown",
      "metadata": {
        "id": "W_lmkgw2Fsj5"
      },
      "source": [
        "#**Top loser**"
      ]
    },
    {
      "cell_type": "code",
      "metadata": {
        "id": "yMZrfp74CUbn"
      },
      "source": [
        "class PositionChangeChart(Renderer):\n",
        "\n",
        "    def __init__(self, color: str = \"orange\"):\n",
        "        self.color = \"orange\"\n",
        "\n",
        "    def render(self, env, **kwargs):\n",
        "        history = pd.DataFrame(env.observer.renderer_history)\n",
        "\n",
        "        actions = list(history.action)\n",
        "        p = list(history.price)\n",
        "\n",
        "        buy = {}\n",
        "        sell = {}\n",
        "\n",
        "        for i in range(len(actions) - 1):\n",
        "            a1 = actions[i]\n",
        "            a2 = actions[i + 1]\n",
        "\n",
        "            if a1 != a2:\n",
        "                if a1 == 0 and a2 == 1:\n",
        "                    buy[i] = p[i]\n",
        "                else:\n",
        "                    sell[i] = p[i]\n",
        "\n",
        "        buy = pd.Series(buy)\n",
        "        sell = pd.Series(sell)\n",
        "\n",
        "        fig, axs = plt.subplots(1, 2, figsize=(15, 5))\n",
        "\n",
        "        fig.suptitle(\"Performance\")\n",
        "\n",
        "        axs[0].plot(np.arange(len(p)), p, label=\"price\", color=self.color)\n",
        "        axs[0].scatter(buy.index, buy.values, marker=\"^\", color=\"green\")\n",
        "        axs[0].scatter(sell.index, sell.values, marker=\"^\", color=\"red\")\n",
        "        axs[0].set_title(\"Trading Chart\")\n",
        "        axs[0].set_xlabel(\"Step\")\n",
        "        axs[0].set_ylabel(\"Price (USD/{})\".format(toplosersymbol))\n",
        "\n",
        "        performance = env.action_scheme.portfolio.performance\n",
        "        performance = pd.DataFrame(performance).transpose()\n",
        "\n",
        "        performance.net_worth.plot(ax=axs[1])\n",
        "        axs[1].set_title(\"Net Worth\")\n",
        "        axs[1].set_xlabel(\"Step\")\n",
        "        axs[1].set_ylabel(\"Amount (USD)\")\n",
        "\n",
        "        plt.show()"
      ],
      "execution_count": null,
      "outputs": []
    },
    {
      "cell_type": "code",
      "metadata": {
        "id": "BnWBwLVgF2l0"
      },
      "source": [
        "def create_env(config):\n",
        "\n",
        "    #closeprice\n",
        "    p = Stream.source(CCtrainfeed, dtype=\"float\").rename(\"USD-{}\".format(toplosersymbol))\n",
        "    #open price\n",
        "    O = Stream.source(OOtrainfeed, dtype=\"float\").rename(\"open\")\n",
        "    #volume\n",
        "    V = Stream.source(VVtrainfeed, dtype=\"float\").rename(\"volume\")\n",
        "    #high\n",
        "    H = Stream.source(HHtrainfeed, dtype=\"float\").rename(\"high\")\n",
        "    #low\n",
        "    L = Stream.source(LLtrainfeed, dtype=\"float\").rename(\"low\")\n",
        "    \n",
        "    stockexchange = Exchange('Nasdaq', service=execute_order)(\n",
        "        p\n",
        "    )\n",
        "\n",
        "    cash = Wallet(stockexchange, 10000 * USD)\n",
        "    asset = Wallet(stockexchange, 0 * LL)\n",
        "\n",
        "    portfolio = Portfolio(USD, [\n",
        "        cash,\n",
        "        asset\n",
        "    ])\n",
        "\n",
        "\n",
        "    feed = DataFeed([\n",
        "        p,\n",
        "        p.ewm(span=10).mean().rename(\"fast\"),\n",
        "        p.ewm(span=50).mean().rename(\"medium\"),\n",
        "        p.ewm(span=100).mean().rename(\"slow\"),\n",
        "        p.log().diff().fillna(0).rename(\"lr\"),\n",
        "        rsi(p, period=20).rename(\"rsi\"),\n",
        "        macd(p, fast=10, slow=50, signal=5).rename(\"macd\"),    \n",
        "        O,\n",
        "        H,\n",
        "        L,\n",
        "        V\n",
        "    ])\n",
        "\n",
        "    reward_scheme = PBR(price=p)\n",
        "\n",
        "    action_scheme = BSH(\n",
        "        cash=cash,\n",
        "        asset=asset\n",
        "    ).attach(reward_scheme)\n",
        "\n",
        "    renderer_feed = DataFeed([\n",
        "        Stream.source(CCtrainfeed, dtype=\"float\").rename(\"price\"),\n",
        "        Stream.sensor(action_scheme, lambda s: s.action, dtype=\"float\").rename(\"action\")\n",
        "    ])\n",
        "\n",
        "    environment = default.create(\n",
        "        feed=feed,\n",
        "        portfolio=portfolio,\n",
        "        action_scheme=action_scheme,\n",
        "        reward_scheme=reward_scheme,\n",
        "        renderer_feed=renderer_feed,\n",
        "        renderer=PositionChangeChart(),\n",
        "        window_size=config[\"window_size\"],\n",
        "        max_allowed_loss=0.6\n",
        "    )\n",
        "    return environment\n",
        "\n",
        "\n",
        "register_env(\"TradingEnv\", create_env)"
      ],
      "execution_count": null,
      "outputs": []
    },
    {
      "cell_type": "markdown",
      "metadata": {
        "id": "FH63_Bx1H1E7"
      },
      "source": [
        "#**Train-Model**"
      ]
    },
    {
      "cell_type": "code",
      "metadata": {
        "colab": {
          "base_uri": "https://localhost:8080/",
          "height": 1000
        },
        "id": "-5RELFIcHu8d",
        "outputId": "62de0b64-7861-4f09-ccfb-0410e66fa3de"
      },
      "source": [
        "analysis = tune.run(\n",
        "    \"PPO\",\n",
        "    stop={\n",
        "      \"episode_reward_mean\": 10\n",
        "    },\n",
        "    config={\n",
        "        \"env\": \"TradingEnv\",\n",
        "        \"env_config\": {\n",
        "            \"window_size\": 25\n",
        "        },\n",
        "        \"framework\": \"torch\",\n",
        "        \"ignore_worker_failures\": True,\n",
        "        \"num_workers\": os.cpu_count() - 1,\n",
        "        \"num_gpus\": 0,\n",
        "        \"clip_rewards\": True,\n",
        "        \"lr\": 8e-6,\n",
        "        \"gamma\": 0,\n",
        "        \"observation_filter\": \"MeanStdFilter\",\n",
        "        \"lambda\": 0.72,\n",
        "        \"vf_loss_coeff\": 0.5,\n",
        "        \"entropy_coeff\": 0.01\n",
        "    },\n",
        "    checkpoint_at_end=True\n",
        ")"
      ],
      "execution_count": null,
      "outputs": [
        {
          "output_type": "stream",
          "text": [
            "2021-06-03 04:35:04,925\tINFO services.py:1269 -- View the Ray dashboard at \u001b[1m\u001b[32mhttp://127.0.0.1:8265\u001b[39m\u001b[22m\n"
          ],
          "name": "stderr"
        },
        {
          "output_type": "display_data",
          "data": {
            "text/html": [
              "== Status ==<br>Memory usage on this node: 1.5/12.7 GiB<br>Using FIFO scheduling algorithm.<br>Resources requested: 2.0/2 CPUs, 0/0 GPUs, 0.0/7.31 GiB heap, 0.0/3.66 GiB objects<br>Result logdir: /root/ray_results/PPO<br>Number of trials: 1/1 (1 RUNNING)<br><table>\n",
              "<thead>\n",
              "<tr><th>Trial name                </th><th>status  </th><th>loc  </th></tr>\n",
              "</thead>\n",
              "<tbody>\n",
              "<tr><td>PPO_TradingEnv_128fe_00000</td><td>RUNNING </td><td>     </td></tr>\n",
              "</tbody>\n",
              "</table><br><br>"
            ],
            "text/plain": [
              "<IPython.core.display.HTML object>"
            ]
          },
          "metadata": {
            "tags": []
          }
        },
        {
          "output_type": "stream",
          "text": [
            "\u001b[2m\u001b[36m(pid=2374)\u001b[0m WARNING:tensorflow:From /usr/local/lib/python3.7/dist-packages/tensorflow/python/compat/v2_compat.py:96: disable_resource_variables (from tensorflow.python.ops.variable_scope) is deprecated and will be removed in a future version.\n",
            "\u001b[2m\u001b[36m(pid=2374)\u001b[0m Instructions for updating:\n",
            "\u001b[2m\u001b[36m(pid=2374)\u001b[0m non-resource variables are not supported in the long term\n",
            "\u001b[2m\u001b[36m(pid=2374)\u001b[0m 2021-06-03 04:35:09,626\tWARNING compression.py:16 -- lz4 not available, disabling sample compression. This will significantly impact RLlib performance. To install lz4, run `pip install lz4`.\n",
            "\u001b[2m\u001b[36m(pid=2374)\u001b[0m WARNING:tensorflow:From /usr/local/lib/python3.7/dist-packages/tensorflow_probability/python/internal/variadic_reduce.py:115: calling function (from tensorflow.python.eager.def_function) with experimental_compile is deprecated and will be removed in a future version.\n",
            "\u001b[2m\u001b[36m(pid=2374)\u001b[0m Instructions for updating:\n",
            "\u001b[2m\u001b[36m(pid=2374)\u001b[0m experimental_compile is deprecated, use jit_compile instead\n",
            "\u001b[2m\u001b[36m(pid=2374)\u001b[0m 2021-06-03 04:35:10,569\tINFO trainer.py:696 -- Current log_level is WARN. For more information, set 'log_level': 'INFO' / 'DEBUG' or use the -v and -vv flags.\n",
            "\u001b[2m\u001b[36m(pid=2373)\u001b[0m WARNING:tensorflow:From /usr/local/lib/python3.7/dist-packages/tensorflow/python/compat/v2_compat.py:96: disable_resource_variables (from tensorflow.python.ops.variable_scope) is deprecated and will be removed in a future version.\n",
            "\u001b[2m\u001b[36m(pid=2373)\u001b[0m Instructions for updating:\n",
            "\u001b[2m\u001b[36m(pid=2373)\u001b[0m non-resource variables are not supported in the long term\n",
            "\u001b[2m\u001b[36m(pid=2373)\u001b[0m 2021-06-03 04:35:13,030\tWARNING compression.py:16 -- lz4 not available, disabling sample compression. This will significantly impact RLlib performance. To install lz4, run `pip install lz4`.\n",
            "\u001b[2m\u001b[36m(pid=2373)\u001b[0m WARNING:tensorflow:From /usr/local/lib/python3.7/dist-packages/tensorflow_probability/python/internal/variadic_reduce.py:115: calling function (from tensorflow.python.eager.def_function) with experimental_compile is deprecated and will be removed in a future version.\n",
            "\u001b[2m\u001b[36m(pid=2373)\u001b[0m Instructions for updating:\n",
            "\u001b[2m\u001b[36m(pid=2373)\u001b[0m experimental_compile is deprecated, use jit_compile instead\n",
            "\u001b[2m\u001b[36m(pid=2374)\u001b[0m 2021-06-03 04:35:14,060\tWARNING util.py:53 -- Install gputil for GPU system monitoring.\n",
            "\u001b[2m\u001b[36m(pid=2373)\u001b[0m /usr/local/lib/python3.7/dist-packages/tensortrade/feed/core/operators.py:171: RuntimeWarning: divide by zero encountered in true_divide\n",
            "\u001b[2m\u001b[36m(pid=2373)\u001b[0m   return self.op(self.inputs[0].value, self.inputs[1].value)\n",
            "\u001b[2m\u001b[36m(pid=2374)\u001b[0m 2021-06-03 04:35:21,620\tWARNING deprecation.py:34 -- DeprecationWarning: `SampleBatch.data[..]` has been deprecated. Use `SampleBatch[..]` instead. This will raise an error in the future!\n"
          ],
          "name": "stderr"
        },
        {
          "output_type": "stream",
          "text": [
            "Result for PPO_TradingEnv_128fe_00000:\n",
            "  agent_timesteps_total: 4000\n",
            "  custom_metrics: {}\n",
            "  date: 2021-06-03_04-35-28\n",
            "  done: false\n",
            "  episode_len_mean: 432.6666666666667\n",
            "  episode_media: {}\n",
            "  episode_reward_max: 23.32999420166025\n",
            "  episode_reward_mean: -0.24778111775714726\n",
            "  episode_reward_min: -27.01000595092773\n",
            "  episodes_this_iter: 9\n",
            "  episodes_total: 9\n",
            "  experiment_id: 262d928414fb4cdcb7245571023171e5\n",
            "  hostname: b78a0b47223f\n",
            "  info:\n",
            "    learner:\n",
            "      default_policy:\n",
            "        learner_stats:\n",
            "          allreduce_latency: 0.0\n",
            "          cur_kl_coeff: 0.2\n",
            "          cur_lr: 8.0e-06\n",
            "          entropy: 0.6735356580466032\n",
            "          entropy_coeff: 0.01\n",
            "          kl: 0.019828237709589303\n",
            "          policy_loss: -0.05629975534975529\n",
            "          total_loss: 0.42948038689792156\n",
            "          vf_explained_var: 0.004589097574353218\n",
            "          vf_loss: 0.9770997129380703\n",
            "    num_agent_steps_sampled: 4000\n",
            "    num_steps_sampled: 4000\n",
            "    num_steps_trained: 4000\n",
            "  iterations_since_restore: 1\n",
            "  node_ip: 172.28.0.2\n",
            "  num_healthy_workers: 1\n",
            "  off_policy_estimator: {}\n",
            "  perf:\n",
            "    cpu_util_percent: 54.97727272727274\n",
            "    ram_util_percent: 15.945454545454545\n",
            "  pid: 2374\n",
            "  policy_reward_max: {}\n",
            "  policy_reward_mean: {}\n",
            "  policy_reward_min: {}\n",
            "  sampler_perf:\n",
            "    mean_action_processing_ms: 0.037861597356245655\n",
            "    mean_env_render_ms: 0.0\n",
            "    mean_env_wait_ms: 0.7713632385780202\n",
            "    mean_inference_ms: 0.9268530903086606\n",
            "    mean_raw_obs_processing_ms: 0.12487132857364884\n",
            "  time_since_restore: 14.89670443534851\n",
            "  time_this_iter_s: 14.89670443534851\n",
            "  time_total_s: 14.89670443534851\n",
            "  timers:\n",
            "    learn_throughput: 545.335\n",
            "    learn_time_ms: 7334.944\n",
            "    sample_throughput: 529.635\n",
            "    sample_time_ms: 7552.374\n",
            "    update_time_ms: 1.732\n",
            "  timestamp: 1622694928\n",
            "  timesteps_since_restore: 0\n",
            "  timesteps_total: 4000\n",
            "  training_iteration: 1\n",
            "  trial_id: 128fe_00000\n",
            "  \n"
          ],
          "name": "stdout"
        },
        {
          "output_type": "display_data",
          "data": {
            "text/html": [
              "== Status ==<br>Memory usage on this node: 2.0/12.7 GiB<br>Using FIFO scheduling algorithm.<br>Resources requested: 2.0/2 CPUs, 0/0 GPUs, 0.0/7.31 GiB heap, 0.0/3.66 GiB objects<br>Result logdir: /root/ray_results/PPO<br>Number of trials: 1/1 (1 RUNNING)<br><table>\n",
              "<thead>\n",
              "<tr><th>Trial name                </th><th>status  </th><th>loc            </th><th style=\"text-align: right;\">  iter</th><th style=\"text-align: right;\">  total time (s)</th><th style=\"text-align: right;\">  ts</th><th style=\"text-align: right;\">   reward</th><th style=\"text-align: right;\">  episode_reward_max</th><th style=\"text-align: right;\">  episode_reward_min</th><th style=\"text-align: right;\">  episode_len_mean</th></tr>\n",
              "</thead>\n",
              "<tbody>\n",
              "<tr><td>PPO_TradingEnv_128fe_00000</td><td>RUNNING </td><td>172.28.0.2:2374</td><td style=\"text-align: right;\">     1</td><td style=\"text-align: right;\">         14.8967</td><td style=\"text-align: right;\">4000</td><td style=\"text-align: right;\">-0.247781</td><td style=\"text-align: right;\">               23.33</td><td style=\"text-align: right;\">              -27.01</td><td style=\"text-align: right;\">           432.667</td></tr>\n",
              "</tbody>\n",
              "</table><br><br>"
            ],
            "text/plain": [
              "<IPython.core.display.HTML object>"
            ]
          },
          "metadata": {
            "tags": []
          }
        },
        {
          "output_type": "stream",
          "text": [
            "\u001b[2m\u001b[36m(pid=2373)\u001b[0m /usr/local/lib/python3.7/dist-packages/tensortrade/feed/core/operators.py:171: RuntimeWarning: divide by zero encountered in true_divide\n",
            "\u001b[2m\u001b[36m(pid=2373)\u001b[0m   return self.op(self.inputs[0].value, self.inputs[1].value)\n"
          ],
          "name": "stderr"
        },
        {
          "output_type": "stream",
          "text": [
            "Result for PPO_TradingEnv_128fe_00000:\n",
            "  agent_timesteps_total: 8000\n",
            "  custom_metrics: {}\n",
            "  date: 2021-06-03_04-35-43\n",
            "  done: false\n",
            "  episode_len_mean: 442.8333333333333\n",
            "  episode_media: {}\n",
            "  episode_reward_max: 39.090011596679574\n",
            "  episode_reward_mean: 9.01388867696126\n",
            "  episode_reward_min: -27.01000595092773\n",
            "  episodes_this_iter: 9\n",
            "  episodes_total: 18\n",
            "  experiment_id: 262d928414fb4cdcb7245571023171e5\n",
            "  hostname: b78a0b47223f\n",
            "  info:\n",
            "    learner:\n",
            "      default_policy:\n",
            "        learner_stats:\n",
            "          allreduce_latency: 0.0\n",
            "          cur_kl_coeff: 0.2\n",
            "          cur_lr: 8.0e-06\n",
            "          entropy: 0.5928338691592216\n",
            "          entropy_coeff: 0.01\n",
            "          kl: 0.04025201383046806\n",
            "          policy_loss: -0.09477395069552585\n",
            "          total_loss: 0.3938384857028723\n",
            "          vf_explained_var: 0.009536871686577797\n",
            "          vf_loss: 0.972980760037899\n",
            "    num_agent_steps_sampled: 8000\n",
            "    num_steps_sampled: 8000\n",
            "    num_steps_trained: 8000\n",
            "  iterations_since_restore: 2\n",
            "  node_ip: 172.28.0.2\n",
            "  num_healthy_workers: 1\n",
            "  off_policy_estimator: {}\n",
            "  perf:\n",
            "    cpu_util_percent: 54.938095238095244\n",
            "    ram_util_percent: 16.0\n",
            "  pid: 2374\n",
            "  policy_reward_max: {}\n",
            "  policy_reward_mean: {}\n",
            "  policy_reward_min: {}\n",
            "  sampler_perf:\n",
            "    mean_action_processing_ms: 0.03813796151491544\n",
            "    mean_env_render_ms: 0.0\n",
            "    mean_env_wait_ms: 0.7614766797231979\n",
            "    mean_inference_ms: 0.9406779485614774\n",
            "    mean_raw_obs_processing_ms: 0.12498674969134813\n",
            "  time_since_restore: 29.78581690788269\n",
            "  time_this_iter_s: 14.88911247253418\n",
            "  time_total_s: 29.78581690788269\n",
            "  timers:\n",
            "    learn_throughput: 547.885\n",
            "    learn_time_ms: 7300.799\n",
            "    sample_throughput: 527.461\n",
            "    sample_time_ms: 7583.499\n",
            "    update_time_ms: 1.696\n",
            "  timestamp: 1622694943\n",
            "  timesteps_since_restore: 0\n",
            "  timesteps_total: 8000\n",
            "  training_iteration: 2\n",
            "  trial_id: 128fe_00000\n",
            "  \n"
          ],
          "name": "stdout"
        },
        {
          "output_type": "display_data",
          "data": {
            "text/html": [
              "== Status ==<br>Memory usage on this node: 2.0/12.7 GiB<br>Using FIFO scheduling algorithm.<br>Resources requested: 2.0/2 CPUs, 0/0 GPUs, 0.0/7.31 GiB heap, 0.0/3.66 GiB objects<br>Result logdir: /root/ray_results/PPO<br>Number of trials: 1/1 (1 RUNNING)<br><table>\n",
              "<thead>\n",
              "<tr><th>Trial name                </th><th>status  </th><th>loc            </th><th style=\"text-align: right;\">  iter</th><th style=\"text-align: right;\">  total time (s)</th><th style=\"text-align: right;\">  ts</th><th style=\"text-align: right;\">  reward</th><th style=\"text-align: right;\">  episode_reward_max</th><th style=\"text-align: right;\">  episode_reward_min</th><th style=\"text-align: right;\">  episode_len_mean</th></tr>\n",
              "</thead>\n",
              "<tbody>\n",
              "<tr><td>PPO_TradingEnv_128fe_00000</td><td>RUNNING </td><td>172.28.0.2:2374</td><td style=\"text-align: right;\">     2</td><td style=\"text-align: right;\">         29.7858</td><td style=\"text-align: right;\">8000</td><td style=\"text-align: right;\"> 9.01389</td><td style=\"text-align: right;\">               39.09</td><td style=\"text-align: right;\">              -27.01</td><td style=\"text-align: right;\">           442.833</td></tr>\n",
              "</tbody>\n",
              "</table><br><br>"
            ],
            "text/plain": [
              "<IPython.core.display.HTML object>"
            ]
          },
          "metadata": {
            "tags": []
          }
        },
        {
          "output_type": "stream",
          "text": [
            "\u001b[2m\u001b[36m(pid=2373)\u001b[0m /usr/local/lib/python3.7/dist-packages/tensortrade/feed/core/operators.py:171: RuntimeWarning: divide by zero encountered in true_divide\n",
            "\u001b[2m\u001b[36m(pid=2373)\u001b[0m   return self.op(self.inputs[0].value, self.inputs[1].value)\n"
          ],
          "name": "stderr"
        },
        {
          "output_type": "stream",
          "text": [
            "Result for PPO_TradingEnv_128fe_00000:\n",
            "  agent_timesteps_total: 12000\n",
            "  custom_metrics: {}\n",
            "  date: 2021-06-03_04-35-58\n",
            "  done: true\n",
            "  episode_len_mean: 445.96153846153845\n",
            "  episode_media: {}\n",
            "  episode_reward_max: 71.68999862670893\n",
            "  episode_reward_mean: 25.162686568040105\n",
            "  episode_reward_min: -27.01000595092773\n",
            "  episodes_this_iter: 8\n",
            "  episodes_total: 26\n",
            "  experiment_id: 262d928414fb4cdcb7245571023171e5\n",
            "  hostname: b78a0b47223f\n",
            "  info:\n",
            "    learner:\n",
            "      default_policy:\n",
            "        learner_stats:\n",
            "          allreduce_latency: 0.0\n",
            "          cur_kl_coeff: 0.30000000000000004\n",
            "          cur_lr: 8.0e-06\n",
            "          entropy: 0.5059659034013748\n",
            "          entropy_coeff: 0.01\n",
            "          kl: 0.024227891175542027\n",
            "          policy_loss: -0.07395277035539038\n",
            "          total_loss: 0.39402193343266845\n",
            "          vf_explained_var: 0.025399746373295784\n",
            "          vf_loss: 0.9315320011228323\n",
            "    num_agent_steps_sampled: 12000\n",
            "    num_steps_sampled: 12000\n",
            "    num_steps_trained: 12000\n",
            "  iterations_since_restore: 3\n",
            "  node_ip: 172.28.0.2\n",
            "  num_healthy_workers: 1\n",
            "  off_policy_estimator: {}\n",
            "  perf:\n",
            "    cpu_util_percent: 54.84761904761905\n",
            "    ram_util_percent: 16.0\n",
            "  pid: 2374\n",
            "  policy_reward_max: {}\n",
            "  policy_reward_mean: {}\n",
            "  policy_reward_min: {}\n",
            "  sampler_perf:\n",
            "    mean_action_processing_ms: 0.03821091508708753\n",
            "    mean_env_render_ms: 0.0\n",
            "    mean_env_wait_ms: 0.7526972616081461\n",
            "    mean_inference_ms: 0.9469831795866241\n",
            "    mean_raw_obs_processing_ms: 0.1251206544426475\n",
            "  time_since_restore: 44.34592294692993\n",
            "  time_this_iter_s: 14.560106039047241\n",
            "  time_total_s: 44.34592294692993\n",
            "  timers:\n",
            "    learn_throughput: 552.569\n",
            "    learn_time_ms: 7238.919\n",
            "    sample_throughput: 530.875\n",
            "    sample_time_ms: 7534.726\n",
            "    update_time_ms: 1.709\n",
            "  timestamp: 1622694958\n",
            "  timesteps_since_restore: 0\n",
            "  timesteps_total: 12000\n",
            "  training_iteration: 3\n",
            "  trial_id: 128fe_00000\n",
            "  \n"
          ],
          "name": "stdout"
        },
        {
          "output_type": "display_data",
          "data": {
            "text/html": [
              "== Status ==<br>Memory usage on this node: 2.0/12.7 GiB<br>Using FIFO scheduling algorithm.<br>Resources requested: 2.0/2 CPUs, 0/0 GPUs, 0.0/7.31 GiB heap, 0.0/3.66 GiB objects<br>Result logdir: /root/ray_results/PPO<br>Number of trials: 1/1 (1 RUNNING)<br><table>\n",
              "<thead>\n",
              "<tr><th>Trial name                </th><th>status  </th><th>loc            </th><th style=\"text-align: right;\">  iter</th><th style=\"text-align: right;\">  total time (s)</th><th style=\"text-align: right;\">   ts</th><th style=\"text-align: right;\">  reward</th><th style=\"text-align: right;\">  episode_reward_max</th><th style=\"text-align: right;\">  episode_reward_min</th><th style=\"text-align: right;\">  episode_len_mean</th></tr>\n",
              "</thead>\n",
              "<tbody>\n",
              "<tr><td>PPO_TradingEnv_128fe_00000</td><td>RUNNING </td><td>172.28.0.2:2374</td><td style=\"text-align: right;\">     3</td><td style=\"text-align: right;\">         44.3459</td><td style=\"text-align: right;\">12000</td><td style=\"text-align: right;\"> 25.1627</td><td style=\"text-align: right;\">               71.69</td><td style=\"text-align: right;\">              -27.01</td><td style=\"text-align: right;\">           445.962</td></tr>\n",
              "</tbody>\n",
              "</table><br><br>"
            ],
            "text/plain": [
              "<IPython.core.display.HTML object>"
            ]
          },
          "metadata": {
            "tags": []
          }
        },
        {
          "output_type": "display_data",
          "data": {
            "text/html": [
              "== Status ==<br>Memory usage on this node: 2.0/12.7 GiB<br>Using FIFO scheduling algorithm.<br>Resources requested: 0/2 CPUs, 0/0 GPUs, 0.0/7.31 GiB heap, 0.0/3.66 GiB objects<br>Result logdir: /root/ray_results/PPO<br>Number of trials: 1/1 (1 TERMINATED)<br><table>\n",
              "<thead>\n",
              "<tr><th>Trial name                </th><th>status    </th><th>loc  </th><th style=\"text-align: right;\">  iter</th><th style=\"text-align: right;\">  total time (s)</th><th style=\"text-align: right;\">   ts</th><th style=\"text-align: right;\">  reward</th><th style=\"text-align: right;\">  episode_reward_max</th><th style=\"text-align: right;\">  episode_reward_min</th><th style=\"text-align: right;\">  episode_len_mean</th></tr>\n",
              "</thead>\n",
              "<tbody>\n",
              "<tr><td>PPO_TradingEnv_128fe_00000</td><td>TERMINATED</td><td>     </td><td style=\"text-align: right;\">     3</td><td style=\"text-align: right;\">         44.3459</td><td style=\"text-align: right;\">12000</td><td style=\"text-align: right;\"> 25.1627</td><td style=\"text-align: right;\">               71.69</td><td style=\"text-align: right;\">              -27.01</td><td style=\"text-align: right;\">           445.962</td></tr>\n",
              "</tbody>\n",
              "</table><br><br>"
            ],
            "text/plain": [
              "<IPython.core.display.HTML object>"
            ]
          },
          "metadata": {
            "tags": []
          }
        },
        {
          "output_type": "stream",
          "text": [
            "2021-06-03 04:35:59,048\tINFO tune.py:549 -- Total run time: 52.18 seconds (51.56 seconds for the tuning loop).\n"
          ],
          "name": "stderr"
        }
      ]
    },
    {
      "cell_type": "code",
      "metadata": {
        "colab": {
          "base_uri": "https://localhost:8080/"
        },
        "id": "UumS0KawH6TU",
        "outputId": "3dfbda0d-4fbd-4839-e442-685e552f88c3"
      },
      "source": [
        "checkpoints = analysis.get_trial_checkpoints_paths(\n",
        "    trial=analysis.get_best_trial(metric=\"episode_reward_mean\", mode=\"max\"),\n",
        "    metric=\"episode_reward_mean\"\n",
        ")\n",
        "checkpoint_path = checkpoints[0][0]\n",
        "\n",
        "# Restore agent\n",
        "agent = ppo.PPOTrainer(\n",
        "    env=\"TradingEnv\",\n",
        "    config={\n",
        "        \"env_config\": {\n",
        "            \"window_size\": 25\n",
        "        },\n",
        "        \"framework\": \"torch\",\n",
        "        \"ignore_worker_failures\": True,\n",
        "        \"num_workers\": 1,\n",
        "        \"num_gpus\": 0,\n",
        "        \"clip_rewards\": True,\n",
        "        \"lr\": 8e-6,\n",
        "        \"gamma\": 0,\n",
        "        \"observation_filter\": \"MeanStdFilter\",\n",
        "        \"lambda\": 0.72,\n",
        "        \"vf_loss_coeff\": 0.5,\n",
        "        \"entropy_coeff\": 0.01\n",
        "    }\n",
        ")\n",
        "agent.restore(checkpoint_path)"
      ],
      "execution_count": null,
      "outputs": [
        {
          "output_type": "stream",
          "text": [
            "2021-06-03 04:36:02,647\tINFO trainer.py:696 -- Current log_level is WARN. For more information, set 'log_level': 'INFO' / 'DEBUG' or use the -v and -vv flags.\n",
            "\u001b[2m\u001b[33m(raylet)\u001b[0m /usr/local/lib/python3.7/dist-packages/ray/autoscaler/_private/cli_logger.py:61: FutureWarning: Not all Ray CLI dependencies were found. In Ray 1.4+, the Ray CLI, autoscaler, and dashboard will only be usable via `pip install 'ray[default]'`. Please update your install command.\n",
            "\u001b[2m\u001b[33m(raylet)\u001b[0m   \"update your install command.\", FutureWarning)\n",
            "\u001b[2m\u001b[36m(pid=2456)\u001b[0m WARNING:tensorflow:From /usr/local/lib/python3.7/dist-packages/tensorflow/python/compat/v2_compat.py:96: disable_resource_variables (from tensorflow.python.ops.variable_scope) is deprecated and will be removed in a future version.\n",
            "\u001b[2m\u001b[36m(pid=2456)\u001b[0m Instructions for updating:\n",
            "\u001b[2m\u001b[36m(pid=2456)\u001b[0m non-resource variables are not supported in the long term\n",
            "\u001b[2m\u001b[36m(pid=2456)\u001b[0m 2021-06-03 04:36:05,477\tWARNING compression.py:16 -- lz4 not available, disabling sample compression. This will significantly impact RLlib performance. To install lz4, run `pip install lz4`.\n",
            "\u001b[2m\u001b[36m(pid=2456)\u001b[0m WARNING:tensorflow:From /usr/local/lib/python3.7/dist-packages/tensorflow_probability/python/internal/variadic_reduce.py:115: calling function (from tensorflow.python.eager.def_function) with experimental_compile is deprecated and will be removed in a future version.\n",
            "\u001b[2m\u001b[36m(pid=2456)\u001b[0m Instructions for updating:\n",
            "\u001b[2m\u001b[36m(pid=2456)\u001b[0m experimental_compile is deprecated, use jit_compile instead\n",
            "2021-06-03 04:36:06,545\tWARNING util.py:53 -- Install gputil for GPU system monitoring.\n",
            "2021-06-03 04:36:06,561\tINFO trainable.py:378 -- Restored on 172.28.0.2 from checkpoint: /root/ray_results/PPO/PPO_TradingEnv_128fe_00000_0_2021-06-03_04-35-07/checkpoint_000003/checkpoint-3\n",
            "2021-06-03 04:36:06,566\tINFO trainable.py:385 -- Current state after restoring: {'_iteration': 3, '_timesteps_total': None, '_time_total': 44.34592294692993, '_episodes_total': 26}\n"
          ],
          "name": "stderr"
        }
      ]
    },
    {
      "cell_type": "code",
      "metadata": {
        "colab": {
          "base_uri": "https://localhost:8080/",
          "height": 426
        },
        "id": "o64m1OXbIDkR",
        "outputId": "3d6e9cbf-38d0-4b62-8aad-4e131e8762db"
      },
      "source": [
        "env = create_env({\n",
        "    \"window_size\": 25\n",
        "})\n",
        "\n",
        "episode_reward = 0\n",
        "done = False\n",
        "obs = env.reset()\n",
        "\n",
        "while not done:\n",
        "    action = agent.compute_action(obs)\n",
        "    obs, reward, done, info = env.step(action)\n",
        "    episode_reward += reward\n",
        "\n",
        "env.render()"
      ],
      "execution_count": null,
      "outputs": [
        {
          "output_type": "stream",
          "text": [
            "/usr/local/lib/python3.7/dist-packages/tensortrade/feed/core/operators.py:171: RuntimeWarning: divide by zero encountered in true_divide\n",
            "  return self.op(self.inputs[0].value, self.inputs[1].value)\n"
          ],
          "name": "stderr"
        },
        {
          "output_type": "display_data",
          "data": {
            "image/png": "[encoded data removed]",
            "text/plain": [
              "<Figure size 1080x360 with 2 Axes>"
            ]
          },
          "metadata": {
            "tags": []
          }
        }
      ]
    },
    {
      "cell_type": "markdown",
      "metadata": {
        "id": "_BeWDY7uIEUE"
      },
      "source": [
        "#**Evaluate**"
      ]
    },
    {
      "cell_type": "code",
      "metadata": {
        "id": "XBCjS3d9IGcA"
      },
      "source": [
        "def create_eval_env(config: dict):\n",
        "    \n",
        "    #close price\n",
        "    p = Stream.source(CCtestfeed, dtype=\"float\").rename(\"USD-{}\".format(toplosersymbol))\n",
        "    #open price\n",
        "    O = Stream.source(OOtestfeed, dtype=\"float\").rename(\"open\")\n",
        "    #volume\n",
        "    V = Stream.source(VVtestfeed, dtype=\"float\").rename(\"volume\")\n",
        "    #high\n",
        "    H = Stream.source(HHtestfeed, dtype=\"float\").rename(\"high\")\n",
        "    #low\n",
        "    L = Stream.source(LLtestfeed, dtype=\"float\").rename(\"low\")\n",
        "    stockexchange = Exchange(\"Nasdaq\", service=execute_order)(\n",
        "        p\n",
        "    )\n",
        "\n",
        "    cash = Wallet(stockexchange, 10000 * USD)\n",
        "    asset = Wallet(stockexchange, 0 * LL)\n",
        "\n",
        "    portfolio = Portfolio(USD, [\n",
        "        cash,\n",
        "        asset\n",
        "    ])\n",
        "\n",
        "    feed = DataFeed([\n",
        "        p,\n",
        "        p.ewm(span=10).mean().rename(\"fast\"),\n",
        "        p.ewm(span=50).mean().rename(\"medium\"),\n",
        "        p.ewm(span=100).mean().rename(\"slow\"),\n",
        "        p.log().diff().fillna(0).rename(\"lr\"),\n",
        "        rsi(p, period=20).rename(\"rsi\"),\n",
        "        macd(p, fast=10, slow=50, signal=5).rename(\"macd\"),\n",
        "        O,\n",
        "        H,\n",
        "        L,\n",
        "        V\n",
        "    ])\n",
        "\n",
        "    reward_scheme = PBR(price=p)\n",
        "\n",
        "    action_scheme = BSH(\n",
        "        cash=cash,\n",
        "        asset=asset\n",
        "    ).attach(reward_scheme)\n",
        "\n",
        "    renderer_feed = DataFeed([\n",
        "        Stream.source(CCtestfeed, dtype=\"float\").rename(\"price\"),\n",
        "        Stream.sensor(action_scheme, lambda s: s.action, dtype=\"float\").rename(\"action\")\n",
        "    ])\n",
        "\n",
        "    environment = default.create(\n",
        "        feed=feed,\n",
        "        portfolio=portfolio,\n",
        "        action_scheme=action_scheme,\n",
        "        reward_scheme=reward_scheme,\n",
        "        renderer_feed=renderer_feed,\n",
        "        renderer=PositionChangeChart(),\n",
        "        window_size=config[\"window_size\"],\n",
        "        max_allowed_loss=0.6\n",
        "    )\n",
        "    return environment"
      ],
      "execution_count": null,
      "outputs": []
    },
    {
      "cell_type": "code",
      "metadata": {
        "colab": {
          "base_uri": "https://localhost:8080/",
          "height": 373
        },
        "id": "20Lxx20-IGke",
        "outputId": "c0ac7632-5703-4001-f8d1-be2df0370f7f"
      },
      "source": [
        "env = create_eval_env({\n",
        "    \"window_size\": 25\n",
        "})\n",
        "\n",
        "episode_reward = 0\n",
        "done = False\n",
        "obs = env.reset()\n",
        "\n",
        "while not done:\n",
        "    action = agent.compute_action(obs)\n",
        "    obs, reward, done, info = env.step(action)\n",
        "    episode_reward += reward\n",
        "\n",
        "env.render()"
      ],
      "execution_count": null,
      "outputs": [
        {
          "output_type": "display_data",
          "data": {
            "image/png": "[encoded data removed]",
            "text/plain": [
              "<Figure size 1080x360 with 2 Axes>"
            ]
          },
          "metadata": {
            "tags": []
          }
        }
      ]
    },
    {
      "cell_type": "code",
      "metadata": {
        "id": "cbfjH1MTKMcz"
      },
      "source": [
        ""
      ],
      "execution_count": null,
      "outputs": []
    }
  ]
}